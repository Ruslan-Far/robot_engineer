{
 "cells": [
  {
   "cell_type": "code",
   "execution_count": null,
   "metadata": {
    "id": "zib6CA_55h4T"
   },
   "outputs": [],
   "source": [
    "import numpy as np\n",
    "import pandas as pd\n",
    "import os\n",
    "import zipfile\n",
    "import cv2\n",
    "from matplotlib import pyplot as plt\n",
    "import shutil\n",
    "from tqdm import tqdm\n",
    "import torch\n",
    "import torchvision\n",
    "import time\n",
    "import copy\n",
    "from torchvision import transforms, models"
   ]
  },
  {
   "cell_type": "code",
   "execution_count": null,
   "metadata": {
    "id": "qEWCxQMXUUH1"
   },
   "outputs": [],
   "source": [
    "print(os.listdir(\"/content\"))\n",
    "print(os.listdir(\"/content/sample_data\"))\n",
    "\n",
    "with zipfile.ZipFile('/content/sample_data/plates.zip', 'r') as zip_obj:\n",
    "   zip_obj.extractall(\"/content\")\n",
    "\n",
    "print('After zip extraction:')\n",
    "print(os.listdir(\"/content\"))"
   ]
  },
  {
   "cell_type": "code",
   "execution_count": null,
   "metadata": {
    "id": "ALeol2BaUZof"
   },
   "outputs": [],
   "source": [
    "data_root = \"/content/plates\"\n",
    "print(os.listdir(data_root))"
   ]
  },
  {
   "cell_type": "code",
   "execution_count": null,
   "metadata": {
    "id": "daHYfNK9loM8"
   },
   "outputs": [],
   "source": [
    "for class_name in ['cleaned', 'dirty']:\n",
    "    source_dir = os.path.join(data_root, 'train', class_name)\n",
    "    os.remove(os.path.join(source_dir, '.DS_Store'))"
   ]
  },
  {
   "cell_type": "code",
   "execution_count": null,
   "metadata": {
    "id": "uFKoc4-P5aPs"
   },
   "outputs": [],
   "source": [
    "class Remove_background_and_crop:\n",
    "\n",
    "    def __init__(self,img):\n",
    "        self.x00 = 0\n",
    "        self.x00 = 0\n",
    "        self.r00 = 0\n",
    "        self.img = img\n",
    "        self.mask = img\n",
    "\n",
    "    def crop (self):\n",
    "            c_r_crop = (1.42*self.r00/2)\n",
    "            self.img = self.img[int(self.y00)-int(c_r_crop):int(self.y00)+int(c_r_crop),int(self.x00)-int(c_r_crop):int(self.x00)+int(c_r_crop)]\n",
    "            self.img = cv2.cvtColor(self.img, cv2.COLOR_BGR2RGB)\n",
    "            crop = self.img\n",
    "            cv2.imwrite(image_folder,crop)\n",
    "            h,w = self.img.shape[:2]\n",
    "            c = min(h,w)\n",
    "            for i in range (5,int(c/3),5):\n",
    "                    crop_img = self.img[i:h-i,i:w-i]\n",
    "                    cv2.imwrite(image_folder[:-4] +  '_Crop_' + str(i) + '.jpg',crop_img)\n",
    "            image1 = self.img[0:int(h//2),0:int(w//2)]\n",
    "            #Делим изображение на 4 части\n",
    "            cv2.imwrite(image_folder[:-4] +  'image1' + '.jpg',image1)\n",
    "            image2 = self.img[int(h//2):h,int(w//2):w]\n",
    "            cv2.imwrite(image_folder[:-4] +  'image2' + '.jpg',image2)\n",
    "            image3 = self.img[int(h//2):h,0:int(w//2)]\n",
    "            cv2.imwrite(image_folder[:-4] +  'image3' + '.jpg',image3)\n",
    "            image4 = self.img[0:int(h//2),int(w//2):w]\n",
    "            cv2.imwrite(image_folder[:-4] +  'image4' + '.jpg',image4)\n",
    "\n",
    "    def crop_test (self):\n",
    "        c_r_crop = (1.42*self.r00/2)\n",
    "        self.img = self.img[int(self.y00)-int(c_r_crop):int(self.y00)+int(c_r_crop),int(self.x00)-int(c_r_crop):int(self.x00)+int(c_r_crop)]\n",
    "        self.img = cv2.cvtColor(self.img, cv2.COLOR_BGR2RGB)\n",
    "        cv2.imwrite(image_folder,self.img)\n",
    "\n",
    "    def find_circle(self):\n",
    "        output = self.img.copy()\n",
    "        img = cv2.convertScaleAbs(self.img, alpha=1.2, beta=0.0)\n",
    "        gray = cv2.cvtColor(img, cv2.COLOR_BGR2GRAY)\n",
    "        circles = cv2.HoughCircles(gray, cv2.HOUGH_GRADIENT, 1, 10,param1=10,param2=5,minRadius=40,maxRadius=250)\n",
    "\n",
    "        if circles is not None:\n",
    "            #print('Координаты центра:',self.x00,self.y00)\n",
    "            circles = np.round(circles[0, :]).astype(\"int\")\n",
    "            #print('Возможные координаты центра и радиусы:')\n",
    "            #print(circles)\n",
    "\n",
    "            for x, y, r in circles:\n",
    "                if ((self.x00-15)<x<(self.x00+15)) and ((self.y00-15)<y<(self.y00+15)):\n",
    "                    if r > self.r00:\n",
    "                        self.x00 = x\n",
    "                        self.y00 = y\n",
    "                        self.r00 = r\n",
    "                        #print('Найдено совпадение:',x,y,r)\n",
    "\n",
    "            if self.r00==0:\n",
    "                #print('Тарелка не найдена','\\n')\n",
    "                ret,thresh = cv2.threshold(self.mask,235,255,0)\n",
    "                contours, hierarchy = cv2.findContours(thresh, cv2.RETR_EXTERNAL, cv2.CHAIN_APPROX_TC89_KCOS)\n",
    "                c = max(contours, key=cv2.contourArea)\n",
    "                (self.x00, self.y00), self.r00 = cv2.minEnclosingCircle(c)\n",
    "            #print('Выбранные координаты центра:',self.x00,self.y00,self.r00)\n",
    "\n",
    "    def findCoordinates(self):\n",
    "        ret,thresh = cv2.threshold(self.mask,235,255,0)\n",
    "        M = cv2.moments(thresh)\n",
    "        self.x00 = int(M[\"m10\"] / M[\"m00\"])\n",
    "        self.y00 = int(M[\"m01\"] / M[\"m00\"])\n",
    "\n",
    "#    def findCenter(self):\n",
    "#        c_r_crop = 124\n",
    "#        self.img = self.img[int(self.y00)-int(c_r_crop):int(self.y00)+int(c_r_crop),int(self.x00)-int(c_r_crop):int(self.x00)+int(c_r_crop)]\n",
    "\n",
    "    def remove_background(self):\n",
    "        mainRectSize = .08\n",
    "        fgSize = .01\n",
    "        img = self.img\n",
    "        img = cv2.cvtColor(img, cv2.COLOR_BGR2RGB)\n",
    "        new_h, new_w = img.shape[:2]\n",
    "        mask = np.zeros(img.shape[:2], np.uint8)\n",
    "        bg_w = round(new_w * mainRectSize)\n",
    "        bg_h = round(new_h * mainRectSize)\n",
    "        bg_rect = (bg_w, bg_h, new_w - bg_w, new_h - bg_h)\n",
    "        fg_w = round(new_w * (1 - fgSize) / 2)\n",
    "        fg_h = round(new_h * (1 - fgSize) / 2)\n",
    "        fg_rect = (fg_w, fg_h, new_w - fg_w, new_h - fg_h)\n",
    "        cv2.rectangle(mask, fg_rect[:2], fg_rect[2:4], color=cv2.GC_FGD, thickness=-1)\n",
    "        bgdModel1 = np.zeros((1, 65), np.float64)\n",
    "        fgdModel1 = np.zeros((1, 65), np.float64)\n",
    "        cv2.grabCut(img, mask, bg_rect, bgdModel1, fgdModel1, 3, cv2.GC_INIT_WITH_RECT)\n",
    "        cv2.rectangle(mask, bg_rect[:2], bg_rect[2:4], color=cv2.GC_PR_BGD, thickness=bg_w * 3)\n",
    "        cv2.grabCut(img, mask, bg_rect, bgdModel1, fgdModel1, 10, cv2.GC_INIT_WITH_MASK)\n",
    "        mask_result = np.where((mask == 1) + (mask == 3), 255, 0).astype('uint8')\n",
    "        masked = cv2.bitwise_and(img, img, mask=mask_result)\n",
    "        masked[mask_result < 2] = [255, 255, 255]\n",
    "        self.img = masked\n",
    "        self.mask = mask_result\n",
    "\n",
    "for image_index in range (20):\n",
    "    print (\"Complete dirty: \",\"{0:04}\".format(image_index),\"/0019\", end=\"\\r\")\n",
    "    image_folder = 'plates/train/dirty/{0:04}.jpg'.format(image_index)\n",
    "    img = cv2.imread(image_folder)\n",
    "    out_img  = Remove_background_and_crop(img)\n",
    "    out_img.remove_background()\n",
    "    out_img.findCoordinates()\n",
    "    out_img.find_circle()\n",
    "    out_img.crop()\n",
    "print (\"\\n\\r\", end=\"\")\n",
    "\n",
    "for image_index in range (20):\n",
    "    print (\"Complete cleaned: \",\"{0:04}\".format(image_index),\"/0019\", end=\"\\r\")\n",
    "    image_folder = 'plates/train/cleaned/{0:04}.jpg'.format(image_index)\n",
    "    img = cv2.imread(image_folder)\n",
    "    out_img  = Remove_background_and_crop(img)\n",
    "    out_img.remove_background()\n",
    "    out_img.findCoordinates()\n",
    "    out_img.find_circle()\n",
    "    out_img.crop()\n",
    "print (\"\\n\\r\", end=\"\")\n",
    "\n",
    "for image_index in range (744):\n",
    "    print (\"Complete test: \",\"{0:04}\".format(image_index),\"/0743\", end=\"\\r\")\n",
    "    image_folder = 'plates/test/{0:04}.jpg'.format(image_index)\n",
    "    img = cv2.imread(image_folder)\n",
    "    out_img  = Remove_background_and_crop(img)\n",
    "    out_img.remove_background()\n",
    "    out_img.findCoordinates()\n",
    "    out_img.find_circle()\n",
    "    out_img.crop_test()\n",
    "print (\"\\n\\r\", end=\"\")"
   ]
  },
  {
   "cell_type": "code",
   "execution_count": null,
   "metadata": {
    "colab": {
     "base_uri": "https://localhost:8080/"
    },
    "id": "HczBABfLeoZH",
    "outputId": "2f8211b5-0f9f-4bc5-bfd8-e029be778001"
   },
   "outputs": [
    {
     "name": "stderr",
     "output_type": "stream",
     "text": [
      "100%|██████████| 262/262 [00:00<00:00, 8770.77it/s]\n",
      "100%|██████████| 274/274 [00:00<00:00, 9569.10it/s]\n"
     ]
    }
   ],
   "source": [
    "train_dir = 'train'\n",
    "val_dir = 'val'\n",
    "\n",
    "class_names = ['cleaned', 'dirty']\n",
    "\n",
    "for dir_name in [train_dir, val_dir]:\n",
    "    for class_name in class_names:\n",
    "        os.makedirs(os.path.join(dir_name, class_name), exist_ok=True)\n",
    "\n",
    "for class_name in class_names:\n",
    "    source_dir = os.path.join(data_root, 'train', class_name)\n",
    "    for i, file_name in enumerate(tqdm(os.listdir(source_dir))):\n",
    "        if i % 6 != 0:\n",
    "            dest_dir = os.path.join(train_dir, class_name)\n",
    "        else:\n",
    "            dest_dir = os.path.join(val_dir, class_name)\n",
    "        shutil.copy(os.path.join(source_dir, file_name), os.path.join(dest_dir, file_name))"
   ]
  },
  {
   "cell_type": "code",
   "execution_count": null,
   "metadata": {
    "colab": {
     "base_uri": "https://localhost:8080/"
    },
    "id": "z1aIsbZcezM0",
    "outputId": "a6c5ae66-096a-49fa-9b5c-157fad66766f"
   },
   "outputs": [
    {
     "name": "stdout",
     "output_type": "stream",
     "text": [
      "cleaned  dirty\n"
     ]
    }
   ],
   "source": [
    "!ls train"
   ]
  },
  {
   "cell_type": "code",
   "execution_count": null,
   "metadata": {
    "id": "5siNTpiJmFC-"
   },
   "outputs": [],
   "source": [
    "train_transforms = transforms.Compose([\n",
    "    transforms.RandomPerspective(distortion_scale=0.09, p=0.75, interpolation=3, fill=255),\n",
    "    transforms.Resize((224, 224)),\n",
    "    transforms.ColorJitter(hue=(-0.5,0.5)),\n",
    "    transforms.RandomHorizontalFlip(),\n",
    "    transforms.RandomVerticalFlip(),\n",
    "    transforms.ToTensor(),\n",
    "    transforms.Normalize([0.485, 0.456, 0.406], [0.229, 0.224, 0.225])\n",
    "])\n",
    "\n",
    "val_transforms = transforms.Compose([\n",
    "    transforms.RandomPerspective(distortion_scale=0.1, p=0.8, interpolation=3, fill=255),\n",
    "    transforms.Resize((224, 224)),\n",
    "    transforms.ColorJitter(hue=(-0.5,0.5)),\n",
    "    transforms.RandomHorizontalFlip(),\n",
    "    transforms.RandomVerticalFlip(),\n",
    "    transforms.ToTensor(),\n",
    "    transforms.Normalize([0.485, 0.456, 0.406], [0.229, 0.224, 0.225])\n",
    "])\n",
    "\n",
    "dataset_transforms = {\n",
    "                      'orig': transforms.Compose([\n",
    "    transforms.Resize((224, 224)),\n",
    "    transforms.ToTensor(),\n",
    "    transforms.Normalize([0.485, 0.456, 0.406], [0.229, 0.224, 0.225])\n",
    "]),\n",
    "\n",
    "                      '140': transforms.Compose([\n",
    "    transforms.CenterCrop(140),\n",
    "    transforms.Resize((224, 224)),\n",
    "    transforms.ToTensor(),\n",
    "    transforms.Normalize([0.485, 0.456, 0.406], [0.229, 0.224, 0.225])\n",
    "]),\n",
    "                     '135': transforms.Compose([\n",
    "    transforms.CenterCrop(135),\n",
    "    transforms.Resize((224, 224)),\n",
    "    transforms.ToTensor(),\n",
    "    transforms.Normalize([0.485, 0.456, 0.406], [0.229, 0.224, 0.225])\n",
    "]),\n",
    "                      '130': transforms.Compose([\n",
    "    transforms.CenterCrop(130),\n",
    "    transforms.Resize((224, 224)),\n",
    "    transforms.ToTensor(),\n",
    "    transforms.Normalize([0.485, 0.456, 0.406], [0.229, 0.224, 0.225])\n",
    "]),\n",
    "                      '125': transforms.Compose([\n",
    "    transforms.CenterCrop(125),\n",
    "    transforms.Resize((224, 224)),\n",
    "    transforms.ToTensor(),\n",
    "    transforms.Normalize([0.485, 0.456, 0.406], [0.229, 0.224, 0.225])\n",
    "]),\n",
    "                      '120': transforms.Compose([\n",
    "    transforms.CenterCrop(120),\n",
    "    transforms.Resize((224, 224)),\n",
    "    transforms.ToTensor(),\n",
    "    transforms.Normalize([0.485, 0.456, 0.406], [0.229, 0.224, 0.225])\n",
    "]),\n",
    "                      '115': transforms.Compose([\n",
    "    transforms.CenterCrop(115),\n",
    "    transforms.Resize((224, 224)),\n",
    "    transforms.ToTensor(),\n",
    "    transforms.Normalize([0.485, 0.456, 0.406], [0.229, 0.224, 0.225])\n",
    "]),\n",
    "                      '110': transforms.Compose([\n",
    "    transforms.CenterCrop(110),\n",
    "    transforms.Resize((224, 224)),\n",
    "    transforms.ToTensor(),\n",
    "    transforms.Normalize([0.485, 0.456, 0.406], [0.229, 0.224, 0.225])\n",
    "]),\n",
    "                      '105': transforms.Compose([\n",
    "    transforms.CenterCrop(105),\n",
    "    transforms.Resize((224, 224)),\n",
    "    transforms.ToTensor(),\n",
    "    transforms.Normalize([0.485, 0.456, 0.406], [0.229, 0.224, 0.225])\n",
    "]),\n",
    "                      '100': transforms.Compose([\n",
    "    transforms.CenterCrop(100),\n",
    "    transforms.Resize((224, 224)),\n",
    "    transforms.ToTensor(),\n",
    "    transforms.Normalize([0.485, 0.456, 0.406], [0.229, 0.224, 0.225])\n",
    "]),\n",
    "                     '95': transforms.Compose([\n",
    "    transforms.CenterCrop(95),\n",
    "    transforms.Resize((224, 224)),\n",
    "    transforms.ToTensor(),\n",
    "    transforms.Normalize([0.485, 0.456, 0.406], [0.229, 0.224, 0.225])\n",
    "]),\n",
    "                       '90': transforms.Compose([\n",
    "    transforms.CenterCrop(90),\n",
    "    transforms.Resize((224, 224)),\n",
    "    transforms.ToTensor(),\n",
    "    transforms.Normalize([0.485, 0.456, 0.406], [0.229, 0.224, 0.225])\n",
    "]),\n",
    "                       '85': transforms.Compose([\n",
    "    transforms.CenterCrop(85),\n",
    "    transforms.Resize((224, 224)),\n",
    "    transforms.ToTensor(),\n",
    "    transforms.Normalize([0.485, 0.456, 0.406], [0.229, 0.224, 0.225])\n",
    "]),\n",
    "                       '80': transforms.Compose([\n",
    "    transforms.CenterCrop(80),\n",
    "    transforms.Resize((224, 224)),\n",
    "    transforms.ToTensor(),\n",
    "    transforms.Normalize([0.485, 0.456, 0.406], [0.229, 0.224, 0.225])\n",
    "]),\n",
    "                      '75': transforms.Compose([\n",
    "    transforms.CenterCrop(75),\n",
    "    transforms.Resize((224, 224)),\n",
    "    transforms.ToTensor(),\n",
    "    transforms.Normalize([0.485, 0.456, 0.406], [0.229, 0.224, 0.225])\n",
    "]),\n",
    "                       '70': transforms.Compose([\n",
    "    transforms.CenterCrop(70),\n",
    "    transforms.Resize((224, 224)),\n",
    "    transforms.ToTensor(),\n",
    "    transforms.Normalize([0.485, 0.456, 0.406], [0.229, 0.224, 0.225])\n",
    "]),\n",
    "}\n",
    "\n",
    "# train_transforms = transforms.Compose([\n",
    "#     transforms.RandomResizedCrop(224),\n",
    "#     transforms.RandomHorizontalFlip(),\n",
    "#     transforms.ToTensor(),\n",
    "#     transforms.Normalize([0.485, 0.456, 0.406], [0.229, 0.224, 0.225])\n",
    "# ])\n",
    "\n",
    "# val_transforms = transforms.Compose([\n",
    "#     transforms.Resize((224, 224)),\n",
    "#     transforms.ToTensor(),\n",
    "#     transforms.Normalize([0.485, 0.456, 0.406], [0.229, 0.224, 0.225])\n",
    "# ])\n",
    "\n",
    "train_dataset = torchvision.datasets.ImageFolder(train_dir, train_transforms)\n",
    "val_dataset = torchvision.datasets.ImageFolder(val_dir, val_transforms)\n",
    "\n",
    "batch_size = 16\n",
    "train_dataloader = torch.utils.data.DataLoader(\n",
    "    train_dataset, batch_size=batch_size, shuffle=True, num_workers=batch_size)\n",
    "val_dataloader = torch.utils.data.DataLoader(\n",
    "    val_dataset, batch_size=batch_size, shuffle=False, num_workers=batch_size)"
   ]
  },
  {
   "cell_type": "code",
   "execution_count": null,
   "metadata": {
    "colab": {
     "base_uri": "https://localhost:8080/"
    },
    "id": "duj7TFRwmIAZ",
    "outputId": "466c50f7-e843-4767-bec2-75a54ec4c48b"
   },
   "outputs": [
    {
     "data": {
      "text/plain": [
       "(28, 446)"
      ]
     },
     "execution_count": 73,
     "metadata": {},
     "output_type": "execute_result"
    }
   ],
   "source": [
    "len(train_dataloader), len(train_dataset)"
   ]
  },
  {
   "cell_type": "code",
   "execution_count": null,
   "metadata": {
    "colab": {
     "base_uri": "https://localhost:8080/",
     "height": 486
    },
    "id": "ovlo7EWkmP3O",
    "outputId": "f29231b3-032c-4e24-cb29-d61d12ce7a83"
   },
   "outputs": [],
   "source": [
    "X_batch, y_batch = next(iter(train_dataloader))\n",
    "print(len(X_batch))\n",
    "print(X_batch.shape)\n",
    "mean = np.array([0.485, 0.456, 0.406])\n",
    "std = np.array([0.229, 0.224, 0.225])\n",
    "plt.imshow(X_batch[0].permute(1, 2, 0).numpy() * std + mean);"
   ]
  },
  {
   "cell_type": "code",
   "execution_count": null,
   "metadata": {
    "id": "Ks5hXiuJsKtV"
   },
   "outputs": [],
   "source": [
    "# plt.imshow(X_batch[0].permute(1, 2, 0).numpy());"
   ]
  },
  {
   "cell_type": "code",
   "execution_count": null,
   "metadata": {
    "colab": {
     "base_uri": "https://localhost:8080/",
     "height": 1000
    },
    "id": "clX1DM64mX9U",
    "outputId": "f3c25695-814d-4bd4-ccb2-76be8b35e883"
   },
   "outputs": [],
   "source": [
    "def show_input(input_tensor, title=''):\n",
    "    image = input_tensor.permute(1, 2, 0).numpy()\n",
    "    image = std * image + mean\n",
    "    # print(image)\n",
    "    plt.imshow(image.clip(0, 1))\n",
    "    plt.title(title)\n",
    "    plt.show()\n",
    "    plt.pause(0.001)\n",
    "\n",
    "X_batch, y_batch = next(iter(train_dataloader))\n",
    "\n",
    "for x_item, y_item in zip(X_batch, y_batch):\n",
    "    show_input(x_item, title=class_names[y_item])"
   ]
  },
  {
   "cell_type": "code",
   "execution_count": null,
   "metadata": {
    "id": "dKO1R7oVmeQ4"
   },
   "outputs": [],
   "source": [
    "def train_model(model, loss, optimizer, scheduler, num_epochs):\n",
    "    for epoch in range(num_epochs):\n",
    "        print('Epoch {}/{}:'.format(epoch, num_epochs - 1), flush=True)\n",
    "\n",
    "        # Each epoch has a training and validation phase\n",
    "        for phase in ['train', 'val']:\n",
    "            if phase == 'train':\n",
    "                dataloader = train_dataloader\n",
    "                scheduler.step()\n",
    "                model.train()  # Set model to training mode\n",
    "            else:\n",
    "                dataloader = val_dataloader\n",
    "                model.eval()   # Set model to evaluate mode\n",
    "\n",
    "            running_loss = 0.\n",
    "            running_acc = 0.\n",
    "\n",
    "            # Iterate over data.\n",
    "            for inputs, labels in tqdm(dataloader):\n",
    "                inputs = inputs.to(device)\n",
    "                labels = labels.to(device)\n",
    "\n",
    "                optimizer.zero_grad()\n",
    "\n",
    "                # forward and backward\n",
    "                with torch.set_grad_enabled(phase == 'train'):\n",
    "                    preds = model(inputs)\n",
    "                    loss_value = loss(preds, labels)\n",
    "                    preds_class = preds.argmax(dim=1)\n",
    "\n",
    "                    # backward + optimize only if in training phase\n",
    "                    if phase == 'train':\n",
    "                        loss_value.backward()\n",
    "                        optimizer.step()\n",
    "\n",
    "                # statistics\n",
    "                running_loss += loss_value.item()\n",
    "                running_acc += (preds_class == labels.data).float().mean()\n",
    "\n",
    "            epoch_loss = running_loss / len(dataloader)\n",
    "            epoch_acc = running_acc / len(dataloader)\n",
    "\n",
    "            print('{} Loss: {:.4f} Acc: {:.4f}'.format(phase, epoch_loss, epoch_acc), flush=True)\n",
    "\n",
    "    return model"
   ]
  },
  {
   "cell_type": "code",
   "execution_count": null,
   "metadata": {
    "id": "bBcLfOdbmh0V"
   },
   "outputs": [],
   "source": [
    "model = models.resnet152(pretrained=True)\n",
    "\n",
    "for param in model.parameters():\n",
    "    param.requires_grad = False\n",
    "\n",
    "model.fc = torch.nn.Linear(model.fc.in_features, 2)\n",
    "\n",
    "print(torch.cuda.is_available())\n",
    "\n",
    "device = torch.device(\"cuda:0\" if torch.cuda.is_available() else \"cpu\")\n",
    "model = model.to(device)\n",
    "\n",
    "loss = torch.nn.CrossEntropyLoss()\n",
    "optimizer = torch.optim.Adam(model.parameters(), amsgrad=True, lr=1.0e-3)\n",
    "\n",
    "# Decay LR by a factor of 0.1 every 7 epochs\n",
    "scheduler = torch.optim.lr_scheduler.StepLR(optimizer, step_size=7, gamma=0.1)"
   ]
  },
  {
   "cell_type": "code",
   "execution_count": null,
   "metadata": {
    "colab": {
     "base_uri": "https://localhost:8080/"
    },
    "id": "yxyq5MBFoOZ2",
    "outputId": "2aab36a6-213f-4f5a-af7b-ac57094d0c74"
   },
   "outputs": [],
   "source": [
    "train_model(model, loss, optimizer, scheduler, num_epochs=30);"
   ]
  },
  {
   "cell_type": "code",
   "execution_count": null,
   "metadata": {
    "colab": {
     "base_uri": "https://localhost:8080/",
     "height": 36
    },
    "id": "tTI-2bXz3MWP",
    "outputId": "aa7b9947-982b-49ba-d237-ee0113dfc3ad"
   },
   "outputs": [
    {
     "data": {
      "application/vnd.google.colaboratory.intrinsic+json": {
       "type": "string"
      },
      "text/plain": [
       "'test/unknown'"
      ]
     },
     "execution_count": 79,
     "metadata": {},
     "output_type": "execute_result"
    }
   ],
   "source": [
    "test_dir = 'test'\n",
    "shutil.copytree(os.path.join(data_root, 'test'), os.path.join(test_dir, 'unknown'))"
   ]
  },
  {
   "cell_type": "code",
   "execution_count": null,
   "metadata": {
    "id": "No6PmB_g6dr3"
   },
   "outputs": [],
   "source": [
    "class ImageFolderWithPaths(torchvision.datasets.ImageFolder):\n",
    "    def __getitem__(self, index):\n",
    "        original_tuple = super(ImageFolderWithPaths, self).__getitem__(index)\n",
    "        path = self.imgs[index][0]\n",
    "        tuple_with_path = (original_tuple + (path,))\n",
    "        return tuple_with_path"
   ]
  },
  {
   "cell_type": "code",
   "execution_count": null,
   "metadata": {
    "id": "FgeSY9qwKd96"
   },
   "outputs": [],
   "source": [
    "# test_dataset = ImageFolderWithPaths(test_dir, val_transforms)\n",
    "\n",
    "# test_dataloader = torch.utils.data.DataLoader(\n",
    "#     test_dataset, batch_size=batch_size, shuffle=False, num_workers=0)"
   ]
  },
  {
   "cell_type": "code",
   "execution_count": null,
   "metadata": {
    "id": "eaMYnBgR_F53"
   },
   "outputs": [],
   "source": [
    "# test_dataset"
   ]
  },
  {
   "cell_type": "code",
   "execution_count": null,
   "metadata": {
    "id": "HODd_2md_Wbd"
   },
   "outputs": [],
   "source": [
    "# model.eval()\n",
    "\n",
    "# test_predictions = []\n",
    "# test_img_paths = []\n",
    "# for inputs, labels, paths in tqdm(test_dataloader):\n",
    "#     inputs = inputs.to(device)\n",
    "#     labels = labels.to(device)\n",
    "#     with torch.set_grad_enabled(False):\n",
    "#         preds = model(inputs)\n",
    "#     test_predictions.append(\n",
    "#         torch.nn.functional.softmax(preds, dim=1)[:,1].data.cpu().numpy())\n",
    "#     test_img_paths.extend(paths)\n",
    "\n",
    "# test_predictions = np.concatenate(test_predictions)"
   ]
  },
  {
   "cell_type": "code",
   "execution_count": null,
   "metadata": {
    "id": "dA3XS-tPD5oZ"
   },
   "outputs": [],
   "source": [
    "# print(test_img_paths)\n",
    "# print(len(test_dataloader))"
   ]
  },
  {
   "cell_type": "code",
   "execution_count": null,
   "metadata": {
    "id": "UemcIcywCVw0"
   },
   "outputs": [],
   "source": [
    "# i = 0\n",
    "# it = iter(test_dataloader)\n",
    "# while i < 2:\n",
    "#   inputs, labels, paths = next(it)\n",
    "\n",
    "#   for img, pred, path in zip(inputs, test_predictions[i * 8 : i * 8 + 8], paths):\n",
    "#       show_input(img, title=pred)\n",
    "#       print(path)\n",
    "#   i += 1"
   ]
  },
  {
   "cell_type": "code",
   "execution_count": null,
   "metadata": {
    "id": "PtP5LRttDItv"
   },
   "outputs": [],
   "source": [
    "# submission_df = pd.DataFrame.from_dict({'id': test_img_paths, 'label': test_predictions})"
   ]
  },
  {
   "cell_type": "code",
   "execution_count": null,
   "metadata": {
    "id": "w2aSXnWUDMWs"
   },
   "outputs": [],
   "source": [
    "# submission_df['label'] = submission_df['label'].map(lambda pred: 'dirty' if pred > 0.5 else 'cleaned')\n",
    "# submission_df['id'] = submission_df['id'].str.replace('test/unknown/', '')\n",
    "# submission_df['id'] = submission_df['id'].str.replace('.jpg', '')\n",
    "# submission_df.set_index('id', inplace=True)\n",
    "# submission_df.head(n=6)"
   ]
  },
  {
   "cell_type": "code",
   "execution_count": null,
   "metadata": {
    "id": "uUfY8af6Daoq"
   },
   "outputs": [],
   "source": [
    "# submission_df.to_csv('submission.csv')"
   ]
  },
  {
   "cell_type": "code",
   "execution_count": null,
   "metadata": {
    "colab": {
     "base_uri": "https://localhost:8080/",
     "height": 1000
    },
    "id": "G8PFU6ewK6kh",
    "outputId": "85aa3eeb-6676-403a-a110-8762870b3e0e"
   },
   "outputs": [],
   "source": [
    "df = pd.DataFrame\n",
    "#Итерируемся по Crop'ам test датасета\n",
    "for (i,tranforms) in dataset_transforms.items():\n",
    "    test_dataset = ImageFolderWithPaths('test', tranforms) #Берем новый класс и получаем tuple из 3х значений\n",
    "    test_dataloader = torch.utils.data.DataLoader(\n",
    "        test_dataset, batch_size=batch_size, shuffle=False, num_workers=0) #Новый даталоадер с путями до изображений\n",
    "\n",
    "    model.eval() #Переводим модель в состояние eval\n",
    "    test_predictions = []  #Создаем пустой список предсказания\n",
    "    test_img_paths = [] #Пути до изображения\n",
    "    for inputs, labels, paths in tqdm(test_dataloader): #Цикл по test_dataloader inputs - батч с изображением, lable - тут none, paths - пути до изображения\n",
    "        inputs = inputs.to(device)\n",
    "        labels = labels.to(device)\n",
    "        with torch.set_grad_enabled(False):\n",
    "            preds = model(inputs) # Считаем предикшены\n",
    "        test_predictions.append(\n",
    "            torch.nn.functional.softmax(preds, dim=1)[:,1].data.cpu().numpy()) #С помощью torch.nn.functional.softmax получаем вероятности, для первого класса [:,1], пеереводим тензор в .data, на .cpu(), в numpy\n",
    "        test_img_paths.extend(paths)\n",
    "    test_predictions = np.concatenate(test_predictions)\n",
    "\n",
    "\n",
    "    submission_df = pd.DataFrame.from_dict({'id': test_img_paths, 'label': test_predictions})\n",
    "    submission_df['id'] = submission_df['id'].str.replace('test/unknown/', '')\n",
    "    submission_df['id'] = submission_df['id'].str.replace('.jpg', '')\n",
    "    submission_df.set_index('id', inplace=True)\n",
    "\n",
    "    try : df = df.merge(submission_df, how='inner', on='id') #Объединяем в один датафрейм\n",
    "    except BaseException: # Для первой итерации\n",
    "        df = submission_df\n",
    "    #submission_df['label'] = submission_df['label'].map(lambda pred: 'dirty' if pred > 0.50 else 'cleaned')\n",
    "    #submission_df.to_csv('submission_predict_{0}.csv'.format(i))\n",
    "df.head(8)"
   ]
  },
  {
   "cell_type": "code",
   "execution_count": null,
   "metadata": {
    "colab": {
     "base_uri": "https://localhost:8080/",
     "height": 394
    },
    "id": "WowFz4oCLZU_",
    "outputId": "eb6265d5-f595-4b45-97e6-985ccdf52baf"
   },
   "outputs": [],
   "source": [
    "df['mean'] = df.mean(axis=1)\n",
    "df.drop(df.columns[:-1], axis='columns', inplace=True)\n",
    "df['label'] = df['mean'].map(lambda pred: 'dirty' if pred > 0.50 else 'cleaned')\n",
    "df.drop(df.columns[:-1], axis='columns', inplace=True)\n",
    "df.head(10)"
   ]
  },
  {
   "cell_type": "code",
   "execution_count": null,
   "metadata": {
    "id": "uERfwL3lLb9T"
   },
   "outputs": [],
   "source": [
    "df.to_csv('submission.csv')"
   ]
  },
  {
   "cell_type": "code",
   "execution_count": null,
   "metadata": {
    "id": "gy3zm_Gui9qX"
   },
   "outputs": [],
   "source": [
    "# !rm -rf train val test plates"
   ]
  }
 ],
 "metadata": {
  "accelerator": "GPU",
  "colab": {
   "gpuType": "T4",
   "provenance": []
  },
  "kernelspec": {
   "display_name": "Python 3 (ipykernel)",
   "language": "python",
   "name": "python3"
  },
  "language_info": {
   "codemirror_mode": {
    "name": "ipython",
    "version": 3
   },
   "file_extension": ".py",
   "mimetype": "text/x-python",
   "name": "python",
   "nbconvert_exporter": "python",
   "pygments_lexer": "ipython3",
   "version": "3.11.7"
  }
 },
 "nbformat": 4,
 "nbformat_minor": 4
}
