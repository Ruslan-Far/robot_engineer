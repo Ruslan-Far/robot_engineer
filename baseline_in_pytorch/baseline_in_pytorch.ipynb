{
 "cells": [
  {
   "cell_type": "code",
   "execution_count": 1,
   "metadata": {
    "id": "owp9eDwm-PK8"
   },
   "outputs": [],
   "source": [
    "import numpy as np\n",
    "import pandas as pd\n",
    "import os\n",
    "import zipfile\n",
    "import cv2\n",
    "from matplotlib import pyplot as plt\n",
    "import shutil\n",
    "from tqdm import tqdm\n",
    "import torch\n",
    "import torchvision\n",
    "import time\n",
    "import copy\n",
    "from torchvision import transforms, models"
   ]
  },
  {
   "cell_type": "code",
   "execution_count": 2,
   "metadata": {
    "colab": {
     "base_uri": "https://localhost:8080/"
    },
    "id": "kV2tnb7k_MAo",
    "outputId": "dd1a842b-5b96-48f1-c1a5-3849f60aa2e2"
   },
   "outputs": [
    {
     "name": "stdout",
     "output_type": "stream",
     "text": [
      "total 191592\n",
      "drwx------+ 1 ruslan ruslan         0 Mar 14 15:42 .\n",
      "drwx------+ 1 ruslan ruslan         0 Mar 10 18:07 ..\n",
      "drwx------+ 1 ruslan ruslan         0 Mar 10 18:20 .ipynb_checkpoints\n",
      "-rwx------+ 1 ruslan ruslan 196168345 Mar 14 15:42 baseline_in_pytorch.ipynb\n",
      "drwx------+ 1 ruslan ruslan         0 Mar 13 22:59 plates\n",
      "-rwx------+ 1 ruslan ruslan      9248 Mar 13 23:48 submission.csv\n",
      "drwx------+ 1 ruslan ruslan         0 Mar 13 23:45 test\n",
      "drwx------+ 1 ruslan ruslan         0 Mar 13 23:01 train\n",
      "drwx------+ 1 ruslan ruslan         0 Mar 13 23:01 val\n"
     ]
    }
   ],
   "source": [
    "!ls -la"
   ]
  },
  {
   "cell_type": "code",
   "execution_count": 3,
   "metadata": {},
   "outputs": [
    {
     "name": "stdout",
     "output_type": "stream",
     "text": [
      "Python 3.11.7\n"
     ]
    }
   ],
   "source": [
    "!python --version"
   ]
  },
  {
   "cell_type": "code",
   "execution_count": 4,
   "metadata": {},
   "outputs": [
    {
     "name": "stdout",
     "output_type": "stream",
     "text": [
      "['.ipynb_checkpoints', 'baseline_in_pytorch.ipynb', 'plates', 'submission.csv', 'test', 'train', 'val']\n"
     ]
    }
   ],
   "source": [
    "print(os.listdir(\".\"))"
   ]
  },
  {
   "cell_type": "code",
   "execution_count": 7,
   "metadata": {
    "_cell_guid": "b1076dfc-b9ad-4769-8c92-a6c4dae69d19",
    "_uuid": "8f2839f25d086af736a60e9eeb907d3b93b6e0e5",
    "colab": {
     "base_uri": "https://localhost:8080/"
    },
    "id": "r_hT_q6D9s8y",
    "outputId": "d314e531-a101-4a61-ab71-f881aae26ce0"
   },
   "outputs": [],
   "source": [
    "# with zipfile.ZipFile('D:/kpfu/magistracy/1_course_1_semester/fundamentals_of_technical_vision/курс по нейронкам степик/7.3/plates.zip', 'r') as zip_obj:\n",
    "#    zip_obj.extractall(\".\")\n",
    "\n",
    "# print('After zip extraction:')\n",
    "# print(os.listdir(\".\"))"
   ]
  },
  {
   "cell_type": "code",
   "execution_count": 3,
   "metadata": {
    "colab": {
     "base_uri": "https://localhost:8080/"
    },
    "id": "TKga6AFz9s82",
    "outputId": "5eb75aa8-39b9-4f22-9fe4-d0af68900139"
   },
   "outputs": [
    {
     "name": "stdout",
     "output_type": "stream",
     "text": [
      "['test', 'train']\n"
     ]
    }
   ],
   "source": [
    "data_root = \"./plates\"\n",
    "print(os.listdir(data_root))"
   ]
  },
  {
   "cell_type": "code",
   "execution_count": 4,
   "metadata": {
    "id": "iBsaE7LjDbR9"
   },
   "outputs": [],
   "source": [
    "# for class_name in ['cleaned', 'dirty']:\n",
    "#     source_dir = os.path.join(data_root, 'train', class_name)\n",
    "#     os.remove(os.path.join(source_dir, '.DS_Store'))"
   ]
  },
  {
   "cell_type": "code",
   "execution_count": 5,
   "metadata": {
    "_cell_guid": "79c7e3d0-c299-4dcb-8224-4455121ee9b0",
    "_uuid": "d629ff2d2480ee46fbb7e2d37f6b5fab8052498a",
    "colab": {
     "base_uri": "https://localhost:8080/"
    },
    "id": "5FH0WiBo9s83",
    "outputId": "e37e2376-09ea-4ca5-b3c0-aeafca030a13"
   },
   "outputs": [],
   "source": [
    "train_dir = 'train'\n",
    "val_dir = 'val'\n",
    "\n",
    "class_names = ['cleaned', 'dirty']\n",
    "\n",
    "# for dir_name in [train_dir, val_dir]:\n",
    "#     for class_name in class_names:\n",
    "#         os.makedirs(os.path.join(dir_name, class_name), exist_ok=True)\n",
    "\n",
    "# for class_name in class_names:\n",
    "#     source_dir = os.path.join(data_root, 'train', class_name)\n",
    "#     for i, file_name in enumerate(tqdm(os.listdir(source_dir))):\n",
    "#         if i % 6 != 0:\n",
    "#             dest_dir = os.path.join(train_dir, class_name)\n",
    "#         else:\n",
    "#             dest_dir = os.path.join(val_dir, class_name)\n",
    "#         shutil.copy(os.path.join(source_dir, file_name), os.path.join(dest_dir, file_name))"
   ]
  },
  {
   "cell_type": "code",
   "execution_count": 6,
   "metadata": {
    "colab": {
     "base_uri": "https://localhost:8080/"
    },
    "id": "uKdE0Zmk9s83",
    "outputId": "63d741d3-06c1-4f76-9871-4cc5353b423d"
   },
   "outputs": [
    {
     "name": "stdout",
     "output_type": "stream",
     "text": [
      "cleaned\n",
      "dirty\n"
     ]
    }
   ],
   "source": [
    "!ls train"
   ]
  },
  {
   "cell_type": "code",
   "execution_count": 7,
   "metadata": {
    "colab": {
     "base_uri": "https://localhost:8080/"
    },
    "id": "3VKOwKLs9s84",
    "outputId": "82efd493-71b2-4727-831f-042022b18efc"
   },
   "outputs": [
    {
     "name": "stdout",
     "output_type": "stream",
     "text": [
      "Dataset ImageFolder\n",
      "    Number of datapoints: 32\n",
      "    Root location: train\n",
      "    StandardTransform\n",
      "Transform: Compose(\n",
      "               RandomResizedCrop(size=(224, 224), scale=(0.08, 1.0), ratio=(0.75, 1.3333), interpolation=bilinear, antialias=True)\n",
      "               RandomHorizontalFlip(p=0.5)\n",
      "               ToTensor()\n",
      "               Normalize(mean=[0.485, 0.456, 0.406], std=[0.229, 0.224, 0.225])\n",
      "           )\n"
     ]
    }
   ],
   "source": [
    "train_transforms = transforms.Compose([\n",
    "    transforms.RandomResizedCrop(224),\n",
    "    transforms.RandomHorizontalFlip(),\n",
    "    transforms.ToTensor(),\n",
    "    transforms.Normalize([0.485, 0.456, 0.406], [0.229, 0.224, 0.225])\n",
    "])\n",
    "\n",
    "val_transforms = transforms.Compose([\n",
    "    transforms.Resize((224, 224)),\n",
    "    transforms.ToTensor(),\n",
    "    transforms.Normalize([0.485, 0.456, 0.406], [0.229, 0.224, 0.225])\n",
    "])\n",
    "\n",
    "train_dataset = torchvision.datasets.ImageFolder(train_dir, train_transforms)\n",
    "val_dataset = torchvision.datasets.ImageFolder(val_dir, val_transforms)\n",
    "\n",
    "print(train_dataset)\n",
    "\n",
    "batch_size = 8\n",
    "train_dataloader = torch.utils.data.DataLoader(\n",
    "    train_dataset, batch_size=batch_size, shuffle=True, num_workers=batch_size)\n",
    "val_dataloader = torch.utils.data.DataLoader(\n",
    "    val_dataset, batch_size=batch_size, shuffle=False, num_workers=batch_size)"
   ]
  },
  {
   "cell_type": "code",
   "execution_count": 8,
   "metadata": {
    "colab": {
     "base_uri": "https://localhost:8080/"
    },
    "id": "bqmyp8bF9s84",
    "outputId": "edef91f9-42c4-4156-849b-7baa0fa9484a"
   },
   "outputs": [
    {
     "name": "stdout",
     "output_type": "stream",
     "text": [
      "[('train\\\\cleaned\\\\0001.jpg', 0), ('train\\\\cleaned\\\\0002.jpg', 0), ('train\\\\cleaned\\\\0003.jpg', 0), ('train\\\\cleaned\\\\0004.jpg', 0), ('train\\\\cleaned\\\\0005.jpg', 0), ('train\\\\cleaned\\\\0007.jpg', 0), ('train\\\\cleaned\\\\0008.jpg', 0), ('train\\\\cleaned\\\\0009.jpg', 0), ('train\\\\cleaned\\\\0010.jpg', 0), ('train\\\\cleaned\\\\0011.jpg', 0), ('train\\\\cleaned\\\\0013.jpg', 0), ('train\\\\cleaned\\\\0014.jpg', 0), ('train\\\\cleaned\\\\0015.jpg', 0), ('train\\\\cleaned\\\\0016.jpg', 0), ('train\\\\cleaned\\\\0017.jpg', 0), ('train\\\\cleaned\\\\0019.jpg', 0), ('train\\\\dirty\\\\0001.jpg', 1), ('train\\\\dirty\\\\0002.jpg', 1), ('train\\\\dirty\\\\0003.jpg', 1), ('train\\\\dirty\\\\0004.jpg', 1), ('train\\\\dirty\\\\0005.jpg', 1), ('train\\\\dirty\\\\0007.jpg', 1), ('train\\\\dirty\\\\0008.jpg', 1), ('train\\\\dirty\\\\0009.jpg', 1), ('train\\\\dirty\\\\0010.jpg', 1), ('train\\\\dirty\\\\0011.jpg', 1), ('train\\\\dirty\\\\0013.jpg', 1), ('train\\\\dirty\\\\0014.jpg', 1), ('train\\\\dirty\\\\0015.jpg', 1), ('train\\\\dirty\\\\0016.jpg', 1), ('train\\\\dirty\\\\0017.jpg', 1), ('train\\\\dirty\\\\0019.jpg', 1)]\n"
     ]
    }
   ],
   "source": [
    "len(train_dataloader), len(train_dataset)\n",
    "print(train_dataloader.dataset.samples)"
   ]
  },
  {
   "cell_type": "code",
   "execution_count": 31,
   "metadata": {
    "colab": {
     "base_uri": "https://localhost:8080/",
     "height": 523
    },
    "id": "p5n324V49s84",
    "outputId": "753c826f-41fe-4a56-e637-567564139c52"
   },
   "outputs": [],
   "source": [
    "# X_batch, y_batch = next(iter(train_dataloader))\n",
    "mean = np.array([0.485, 0.456, 0.406])\n",
    "std = np.array([0.229, 0.224, 0.225])\n",
    "# plt.imshow(X_batch[0].permute(1, 2, 0).numpy() * std + mean);\n",
    "# print(X_batch.shape)\n",
    "# print(X_batch[0].shape)"
   ]
  },
  {
   "cell_type": "code",
   "execution_count": 32,
   "metadata": {
    "colab": {
     "base_uri": "https://localhost:8080/",
     "height": 1000
    },
    "id": "szsNABEz9s85",
    "outputId": "326a89da-13b3-49f4-dbff-bea17d9cbbd1"
   },
   "outputs": [],
   "source": [
    "def show_input(input_tensor, title='', num_batch=0, num_elem_batch=0):\n",
    "    image = input_tensor.permute(1, 2, 0).numpy()\n",
    "    image = std * image + mean\n",
    "    # print(title)\n",
    "    # print(image)\n",
    "    plt.imshow(image.clip(0, 1))\n",
    "    plt.title(str(num_batch) + \".\" + str(num_elem_batch) + \") \" + title)\n",
    "    plt.show()\n",
    "    plt.pause(0.001)\n",
    "\n",
    "# X_batch, y_batch = next(iter(train_dataloader))\n",
    "# for x_item, y_item in zip(X_batch, y_batch):\n",
    "#     show_input(x_item, title=class_names[y_item])\n",
    "\n",
    "def show_input_all(dataloader):\n",
    "    it = iter(dataloader)\n",
    "    for i in range(len(dataloader)):\n",
    "        X_batch, y_batch = next(it)\n",
    "        num_elem_batch = 0\n",
    "        for x_item, y_item in zip(X_batch, y_batch):\n",
    "            show_input(x_item, title=class_names[y_item], num_batch=i+1, num_elem_batch=num_elem_batch+1)\n",
    "            num_elem_batch += 1\n",
    "\n",
    "# def show_input_all(dataloader):\n",
    "#     i = 0\n",
    "#     for X_batch, y_batch in dataloader:\n",
    "#         num_elem_batch = 0\n",
    "#         for x_item, y_item in zip(X_batch, y_batch):\n",
    "#             show_input(x_item, title=class_names[y_item], num_batch=i+1, num_elem_batch=num_elem_batch+1)\n",
    "#             num_elem_batch += 1\n",
    "#         i += 1\n",
    "\n",
    "#     i = 0\n",
    "#     for X_batch, y_batch in dataloader:\n",
    "#         num_elem_batch = 0\n",
    "#         for x_item, y_item in zip(X_batch, y_batch):\n",
    "#             show_input(x_item, title=class_names[y_item], num_batch=i+1, num_elem_batch=num_elem_batch+1)\n",
    "#             num_elem_batch += 1\n",
    "#         i += 1"
   ]
  },
  {
   "cell_type": "code",
   "execution_count": null,
   "metadata": {},
   "outputs": [],
   "source": [
    "show_input_all(train_dataloader)"
   ]
  },
  {
   "cell_type": "code",
   "execution_count": null,
   "metadata": {},
   "outputs": [],
   "source": [
    "show_input_all(val_dataloader)"
   ]
  },
  {
   "cell_type": "code",
   "execution_count": 26,
   "metadata": {
    "id": "33PMkTs49s85"
   },
   "outputs": [],
   "source": [
    "def train_model(model, loss, optimizer, scheduler, num_epochs):\n",
    "    for epoch in range(num_epochs):\n",
    "        print('Epoch {}/{}:'.format(epoch, num_epochs - 1), flush=True)\n",
    "\n",
    "        # Each epoch has a training and validation phase\n",
    "        for phase in ['train', 'val']:\n",
    "            if phase == 'train':\n",
    "                dataloader = train_dataloader\n",
    "                scheduler.step()\n",
    "                model.train()  # Set model to training mode\n",
    "            else:\n",
    "                dataloader = val_dataloader\n",
    "                model.eval()   # Set model to evaluate mode\n",
    "\n",
    "            running_loss = 0.\n",
    "            running_acc = 0.\n",
    "\n",
    "            # Iterate over data.\n",
    "            for inputs, labels in tqdm(dataloader):\n",
    "                inputs = inputs.to(device)\n",
    "                labels = labels.to(device)\n",
    "\n",
    "                optimizer.zero_grad()\n",
    "\n",
    "                # forward and backward\n",
    "                with torch.set_grad_enabled(phase == 'train'):\n",
    "                    preds = model(inputs)\n",
    "                    loss_value = loss(preds, labels)\n",
    "                    preds_class = preds.argmax(dim=1)\n",
    "\n",
    "                    # backward + optimize only if in training phase\n",
    "                    if phase == 'train':\n",
    "                        loss_value.backward()\n",
    "                        optimizer.step()\n",
    "\n",
    "                # statistics\n",
    "                running_loss += loss_value.item()\n",
    "                running_acc += (preds_class == labels.data).float().mean()\n",
    "\n",
    "            epoch_loss = running_loss / len(dataloader)\n",
    "            epoch_acc = running_acc / len(dataloader)\n",
    "\n",
    "            print('{} Loss: {:.4f} Acc: {:.4f}'.format(phase, epoch_loss, epoch_acc), flush=True)\n",
    "\n",
    "    return model"
   ]
  },
  {
   "cell_type": "code",
   "execution_count": null,
   "metadata": {
    "colab": {
     "base_uri": "https://localhost:8080/"
    },
    "id": "ucInJlm09s86",
    "outputId": "94002de2-abd5-43c4-872e-5db2aca307a4"
   },
   "outputs": [],
   "source": [
    "model = models.resnet18(pretrained=True)\n",
    "\n",
    "# Disable grad for all conv layers\n",
    "for param in model.parameters():\n",
    "    param.requires_grad = False\n",
    "\n",
    "model.fc = torch.nn.Linear(model.fc.in_features, 2)\n",
    "\n",
    "device = torch.device(\"cuda:0\" if torch.cuda.is_available() else \"cpu\")\n",
    "# print(model)\n",
    "print(device)\n",
    "model = model.to(device)\n",
    "\n",
    "loss = torch.nn.CrossEntropyLoss()\n",
    "optimizer = torch.optim.Adam(model.parameters(), lr=1.0e-3)\n",
    "\n",
    "# Decay LR by a factor of 0.1 every 7 epochs\n",
    "scheduler = torch.optim.lr_scheduler.StepLR(optimizer, step_size=7, gamma=0.1)"
   ]
  },
  {
   "cell_type": "code",
   "execution_count": null,
   "metadata": {
    "colab": {
     "base_uri": "https://localhost:8080/"
    },
    "id": "tdglCd3M9s86",
    "outputId": "18653eaa-cce3-4e1d-8a77-e9f5fb1cfadd"
   },
   "outputs": [],
   "source": [
    "train_model(model, loss, optimizer, scheduler, num_epochs=100)"
   ]
  },
  {
   "cell_type": "code",
   "execution_count": 29,
   "metadata": {
    "colab": {
     "base_uri": "https://localhost:8080/",
     "height": 36
    },
    "id": "OXV3lgw19s86",
    "outputId": "50f81f9b-d61a-435f-8418-803b312c2a62"
   },
   "outputs": [],
   "source": [
    "test_dir = 'test'\n",
    "# shutil.copytree(os.path.join(data_root, 'test'), os.path.join(test_dir, 'unknown'))"
   ]
  },
  {
   "cell_type": "code",
   "execution_count": 30,
   "metadata": {
    "id": "m-3Qav2S9s87"
   },
   "outputs": [],
   "source": [
    "class ImageFolderWithPaths(torchvision.datasets.ImageFolder):\n",
    "    def __getitem__(self, index):\n",
    "        original_tuple = super(ImageFolderWithPaths, self).__getitem__(index)\n",
    "        path = self.imgs[index][0]\n",
    "        tuple_with_path = (original_tuple + (path,))\n",
    "        return tuple_with_path\n",
    "\n",
    "test_dataset = ImageFolderWithPaths(test_dir, val_transforms)\n",
    "\n",
    "test_dataloader = torch.utils.data.DataLoader(\n",
    "    test_dataset, batch_size=batch_size, shuffle=False, num_workers=0)"
   ]
  },
  {
   "cell_type": "code",
   "execution_count": 31,
   "metadata": {
    "colab": {
     "base_uri": "https://localhost:8080/"
    },
    "id": "S0dS1AZK9s87",
    "outputId": "4b565f52-f91c-45d8-ba81-d10830993c5c"
   },
   "outputs": [
    {
     "data": {
      "text/plain": [
       "Dataset ImageFolderWithPaths\n",
       "    Number of datapoints: 744\n",
       "    Root location: test\n",
       "    StandardTransform\n",
       "Transform: Compose(\n",
       "               Resize(size=(224, 224), interpolation=bilinear, max_size=None, antialias=True)\n",
       "               ToTensor()\n",
       "               Normalize(mean=[0.485, 0.456, 0.406], std=[0.229, 0.224, 0.225])\n",
       "           )"
      ]
     },
     "execution_count": 31,
     "metadata": {},
     "output_type": "execute_result"
    }
   ],
   "source": [
    "test_dataset"
   ]
  },
  {
   "cell_type": "code",
   "execution_count": null,
   "metadata": {
    "colab": {
     "base_uri": "https://localhost:8080/"
    },
    "id": "ZuvL6CcF9s87",
    "outputId": "956819f8-449f-4b9c-b9b1-9cbf5e9f839d"
   },
   "outputs": [],
   "source": [
    "model.eval()\n",
    "\n",
    "test_predictions = []\n",
    "test_img_paths = []\n",
    "for inputs, labels, paths in tqdm(test_dataloader):\n",
    "    inputs = inputs.to(device)\n",
    "    labels = labels.to(device)\n",
    "    with torch.set_grad_enabled(False):\n",
    "        preds = model(inputs)\n",
    "    test_predictions.append(\n",
    "        torch.nn.functional.softmax(preds, dim=1)[:,1].data.cpu().numpy())\n",
    "    test_img_paths.extend(paths)\n",
    "\n",
    "# test_predictions = np.concatenate(test_predictions)\n",
    "# print(test_predictions)\n",
    "# print(len(test_predictions))\n",
    "# print(len(test_predictions[0]))"
   ]
  },
  {
   "cell_type": "code",
   "execution_count": null,
   "metadata": {
    "colab": {
     "base_uri": "https://localhost:8080/",
     "height": 1000
    },
    "id": "6-hFNG4x9s87",
    "outputId": "0c77a154-5ee0-4336-8298-c68b1acfad5b"
   },
   "outputs": [],
   "source": [
    "# inputs, labels, paths = next(iter(test_dataloader))\n",
    "# for img, pred in zip(inputs, test_predictions):\n",
    "#     show_input(img, title=pred)\n",
    "\n",
    "iter = iter(test_dataloader)\n",
    "for i in range(len(test_dataloader)):\n",
    "    inputs, labels, paths = next(iter)\n",
    "    num_elem_batch = 0\n",
    "    for img, pred in zip(inputs, test_predictions[i]):\n",
    "        show_input(img, title=str(pred), num_batch=i+1, num_elem_batch=num_elem_batch+1)\n",
    "        num_elem_batch += 1\n",
    "\n",
    "test_predictions = np.concatenate(test_predictions)"
   ]
  },
  {
   "cell_type": "code",
   "execution_count": 35,
   "metadata": {
    "id": "JjsXhufg9s87"
   },
   "outputs": [],
   "source": [
    "submission_df = pd.DataFrame.from_dict({'id': test_img_paths, 'label': test_predictions})"
   ]
  },
  {
   "cell_type": "code",
   "execution_count": null,
   "metadata": {
    "id": "n3j6_ADf9s87"
   },
   "outputs": [],
   "source": [
    "submission_df['label'] = submission_df['label'].map(lambda pred: 'dirty' if pred > 0.5 else 'cleaned')\n",
    "submission_df['id'] = submission_df['id'].str.replace(test_dir + \"\\\\unknown\\\\\", \"\")\n",
    "submission_df['id'] = submission_df['id'].str.replace('.jpg', '')\n",
    "submission_df.set_index('id', inplace=True)\n",
    "submission_df.head(n=6)"
   ]
  },
  {
   "cell_type": "code",
   "execution_count": 38,
   "metadata": {
    "id": "HiKrAoJM9s88"
   },
   "outputs": [],
   "source": [
    "submission_df.to_csv('submission2.csv')"
   ]
  },
  {
   "cell_type": "code",
   "execution_count": null,
   "metadata": {
    "id": "bylkPgc-9s88"
   },
   "outputs": [],
   "source": [
    "# !rm -rf train val test"
   ]
  },
  {
   "cell_type": "code",
   "execution_count": null,
   "metadata": {
    "id": "3CKHTySr9s88"
   },
   "outputs": [],
   "source": []
  }
 ],
 "metadata": {
  "accelerator": "GPU",
  "colab": {
   "gpuType": "T4",
   "provenance": []
  },
  "kernelspec": {
   "display_name": "Python 3 (ipykernel)",
   "language": "python",
   "name": "python3"
  },
  "language_info": {
   "codemirror_mode": {
    "name": "ipython",
    "version": 3
   },
   "file_extension": ".py",
   "mimetype": "text/x-python",
   "name": "python",
   "nbconvert_exporter": "python",
   "pygments_lexer": "ipython3",
   "version": "3.11.7"
  }
 },
 "nbformat": 4,
 "nbformat_minor": 4
}
