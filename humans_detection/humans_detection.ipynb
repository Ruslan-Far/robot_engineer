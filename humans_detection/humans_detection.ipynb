{
 "cells": [
  {
   "cell_type": "code",
   "execution_count": 1,
   "metadata": {
    "id": "zib6CA_55h4T"
   },
   "outputs": [],
   "source": [
    "import numpy as np\n",
    "import pandas as pd\n",
    "import os\n",
    "import zipfile\n",
    "import cv2\n",
    "from matplotlib import pyplot as plt\n",
    "import shutil\n",
    "from tqdm import tqdm\n",
    "import torch\n",
    "import torchvision\n",
    "import time\n",
    "import copy\n",
    "from torchvision import transforms, models"
   ]
  },
  {
   "cell_type": "code",
   "execution_count": 2,
   "metadata": {
    "id": "ALeol2BaUZof"
   },
   "outputs": [
    {
     "name": "stdout",
     "output_type": "stream",
     "text": [
      "['test', 'train']\n"
     ]
    }
   ],
   "source": [
    "data_root = \"./humans\"\n",
    "print(os.listdir(data_root))"
   ]
  },
  {
   "cell_type": "code",
   "execution_count": 4,
   "metadata": {
    "colab": {
     "base_uri": "https://localhost:8080/"
    },
    "id": "HczBABfLeoZH",
    "outputId": "2f8211b5-0f9f-4bc5-bfd8-e029be778001"
   },
   "outputs": [
    {
     "name": "stderr",
     "output_type": "stream",
     "text": [
      "100%|██████████| 268/268 [00:00<00:00, 1153.77it/s]\n",
      "100%|██████████| 275/275 [00:00<00:00, 1244.89it/s]\n"
     ]
    }
   ],
   "source": [
    "train_dir = 'train'\n",
    "val_dir = 'val'\n",
    "\n",
    "class_names = ['is_human', 'no']\n",
    "\n",
    "for dir_name in [train_dir, val_dir]:\n",
    "    for class_name in class_names:\n",
    "        os.makedirs(os.path.join(dir_name, class_name), exist_ok=True)\n",
    "\n",
    "for class_name in class_names:\n",
    "    source_dir = os.path.join(data_root, 'train', class_name)\n",
    "    for i, file_name in enumerate(tqdm(os.listdir(source_dir))):\n",
    "        if i % 6 != 0:\n",
    "            dest_dir = os.path.join(train_dir, class_name)\n",
    "        else:\n",
    "            dest_dir = os.path.join(val_dir, class_name)\n",
    "        shutil.copy(os.path.join(source_dir, file_name), os.path.join(dest_dir, file_name))"
   ]
  },
  {
   "cell_type": "code",
   "execution_count": 5,
   "metadata": {
    "colab": {
     "base_uri": "https://localhost:8080/"
    },
    "id": "z1aIsbZcezM0",
    "outputId": "a6c5ae66-096a-49fa-9b5c-157fad66766f"
   },
   "outputs": [
    {
     "name": "stdout",
     "output_type": "stream",
     "text": [
      "cleaned\n",
      "dirty\n"
     ]
    }
   ],
   "source": [
    "!ls train"
   ]
  },
  {
   "cell_type": "code",
   "execution_count": 6,
   "metadata": {
    "id": "5siNTpiJmFC-"
   },
   "outputs": [
    {
     "name": "stderr",
     "output_type": "stream",
     "text": [
      "C:\\Users\\ruslan\\anaconda3\\Lib\\site-packages\\torch\\utils\\data\\dataloader.py:558: UserWarning: This DataLoader will create 16 worker processes in total. Our suggested max number of worker in current system is 8 (`cpuset` is not taken into account), which is smaller than what this DataLoader is going to create. Please be aware that excessive worker creation might get DataLoader running slow or even freeze, lower the worker number to avoid potential slowness/freeze if necessary.\n",
      "  warnings.warn(_create_warning_msg(\n"
     ]
    }
   ],
   "source": [
    "train_transforms = transforms.Compose([\n",
    "    transforms.RandomPerspective(distortion_scale=0.09, p=0.75, interpolation=3, fill=255),\n",
    "    transforms.Resize((224, 224)),\n",
    "    transforms.ColorJitter(hue=(-0.5,0.5)),\n",
    "    transforms.RandomHorizontalFlip(),\n",
    "    transforms.RandomVerticalFlip(),\n",
    "    transforms.ToTensor(),\n",
    "    transforms.Normalize([0.485, 0.456, 0.406], [0.229, 0.224, 0.225])\n",
    "])\n",
    "\n",
    "val_transforms = transforms.Compose([\n",
    "    transforms.RandomPerspective(distortion_scale=0.1, p=0.8, interpolation=3, fill=255),\n",
    "    transforms.Resize((224, 224)),\n",
    "    transforms.ColorJitter(hue=(-0.5,0.5)),\n",
    "    transforms.RandomHorizontalFlip(),\n",
    "    transforms.RandomVerticalFlip(),\n",
    "    transforms.ToTensor(),\n",
    "    transforms.Normalize([0.485, 0.456, 0.406], [0.229, 0.224, 0.225])\n",
    "])\n",
    "\n",
    "\n",
    "\n",
    "# train_transforms = transforms.Compose([\n",
    "#     transforms.RandomResizedCrop(224),\n",
    "#     transforms.RandomHorizontalFlip(),\n",
    "#     transforms.ToTensor(),\n",
    "#     transforms.Normalize([0.485, 0.456, 0.406], [0.229, 0.224, 0.225])\n",
    "# ])\n",
    "\n",
    "# val_transforms = transforms.Compose([\n",
    "#     transforms.Resize((224, 224)),\n",
    "#     transforms.ToTensor(),\n",
    "#     transforms.Normalize([0.485, 0.456, 0.406], [0.229, 0.224, 0.225])\n",
    "# ])\n",
    "\n",
    "train_dataset = torchvision.datasets.ImageFolder(train_dir, train_transforms)\n",
    "val_dataset = torchvision.datasets.ImageFolder(val_dir, val_transforms)\n",
    "\n",
    "batch_size = 16\n",
    "train_dataloader = torch.utils.data.DataLoader(\n",
    "    train_dataset, batch_size=batch_size, shuffle=True, num_workers=batch_size)\n",
    "val_dataloader = torch.utils.data.DataLoader(\n",
    "    val_dataset, batch_size=batch_size, shuffle=False, num_workers=batch_size)"
   ]
  },
  {
   "cell_type": "code",
   "execution_count": 7,
   "metadata": {
    "colab": {
     "base_uri": "https://localhost:8080/"
    },
    "id": "duj7TFRwmIAZ",
    "outputId": "466c50f7-e843-4767-bec2-75a54ec4c48b"
   },
   "outputs": [
    {
     "data": {
      "text/plain": [
       "(29, 452)"
      ]
     },
     "execution_count": 7,
     "metadata": {},
     "output_type": "execute_result"
    }
   ],
   "source": [
    "len(train_dataloader), len(train_dataset)"
   ]
  },
  {
   "cell_type": "code",
   "execution_count": 8,
   "metadata": {
    "colab": {
     "base_uri": "https://localhost:8080/",
     "height": 486
    },
    "id": "ovlo7EWkmP3O",
    "outputId": "f29231b3-032c-4e24-cb29-d61d12ce7a83"
   },
   "outputs": [],
   "source": [
    "mean = np.array([0.485, 0.456, 0.406])\n",
    "std = np.array([0.229, 0.224, 0.225])"
   ]
  },
  {
   "cell_type": "code",
   "execution_count": 9,
   "metadata": {
    "id": "Ks5hXiuJsKtV"
   },
   "outputs": [],
   "source": [
    "# plt.imshow(X_batch[0].permute(1, 2, 0).numpy());"
   ]
  },
  {
   "cell_type": "code",
   "execution_count": 10,
   "metadata": {
    "colab": {
     "base_uri": "https://localhost:8080/",
     "height": 1000
    },
    "id": "clX1DM64mX9U",
    "outputId": "f3c25695-814d-4bd4-ccb2-76be8b35e883"
   },
   "outputs": [],
   "source": [
    "def show_input(input_tensor, title='', num_batch=0, num_elem_batch=0):\n",
    "    image = input_tensor.permute(1, 2, 0).numpy()\n",
    "    image = std * image + mean\n",
    "    plt.imshow(image.clip(0, 1))\n",
    "    plt.title(str(num_batch) + \".\" + str(num_elem_batch) + \") \" + title)\n",
    "    plt.show()\n",
    "    plt.pause(0.001)\n",
    "\n",
    "def show_input_all(dataloader):\n",
    "    it = iter(dataloader)\n",
    "    for i in range(len(dataloader)):\n",
    "        X_batch, y_batch = next(it)\n",
    "        num_elem_batch = 0\n",
    "        for x_item, y_item in zip(X_batch, y_batch):\n",
    "            show_input(x_item, title=class_names[y_item], num_batch=i+1, num_elem_batch=num_elem_batch+1)\n",
    "            num_elem_batch += 1"
   ]
  },
  {
   "cell_type": "code",
   "execution_count": null,
   "metadata": {},
   "outputs": [],
   "source": [
    "show_input_all(train_dataloader)"
   ]
  },
  {
   "cell_type": "code",
   "execution_count": null,
   "metadata": {},
   "outputs": [],
   "source": [
    "show_input_all(val_dataloader)"
   ]
  },
  {
   "cell_type": "code",
   "execution_count": 23,
   "metadata": {
    "id": "dKO1R7oVmeQ4"
   },
   "outputs": [],
   "source": [
    "train_loss_history = []\n",
    "train_accuracy_history = []\n",
    "val_loss_history = []\n",
    "val_accuracy_history = []\n",
    "\n",
    "def train_model(model, loss, optimizer, scheduler, num_epochs):\n",
    "    for epoch in range(num_epochs):\n",
    "        print('Epoch {}/{}:'.format(epoch, num_epochs - 1), flush=True)\n",
    "\n",
    "        # Each epoch has a training and validation phase\n",
    "        for phase in ['train', 'val']:\n",
    "            if phase == 'train':\n",
    "                dataloader = train_dataloader\n",
    "                # scheduler.step()\n",
    "                model.train()  # Set model to training mode\n",
    "            else:\n",
    "                dataloader = val_dataloader\n",
    "                model.eval()   # Set model to evaluate mode\n",
    "\n",
    "            running_loss = 0.\n",
    "            running_acc = 0.\n",
    "\n",
    "            # Iterate over data.\n",
    "            for inputs, labels in tqdm(dataloader):\n",
    "                inputs = inputs.to(device)\n",
    "                labels = labels.to(device)\n",
    "\n",
    "                optimizer.zero_grad()\n",
    "\n",
    "                # forward and backward\n",
    "                with torch.set_grad_enabled(phase == 'train'):\n",
    "                    preds = model(inputs)\n",
    "                    loss_value = loss(preds, labels)\n",
    "                    preds_class = preds.argmax(dim=1)\n",
    "\n",
    "                    # backward + optimize only if in training phase\n",
    "                    if phase == 'train':\n",
    "                        loss_value.backward()\n",
    "                        optimizer.step()\n",
    "                        scheduler.step()\n",
    "\n",
    "                # statistics\n",
    "                running_loss += loss_value.item()\n",
    "                running_acc += (preds_class == labels.data).float().mean()\n",
    "\n",
    "            epoch_loss = running_loss / len(dataloader)\n",
    "            epoch_acc = running_acc / len(dataloader)\n",
    "\n",
    "            print('{} Loss: {:.4f} Acc: {:.4f}'.format(phase, epoch_loss, epoch_acc), flush=True)\n",
    "            if phase == \"train\":\n",
    "                train_loss_history.append(epoch_loss)\n",
    "                train_accuracy_history.append(epoch_acc)\n",
    "            else:\n",
    "                val_loss_history.append(epoch_loss)\n",
    "                val_accuracy_history.append(epoch_acc)\n",
    "\n",
    "    return model"
   ]
  },
  {
   "cell_type": "code",
   "execution_count": 18,
   "metadata": {
    "id": "bBcLfOdbmh0V"
   },
   "outputs": [
    {
     "name": "stdout",
     "output_type": "stream",
     "text": [
      "True\n"
     ]
    }
   ],
   "source": [
    "# model = models.resnet152(pretrained=True)\n",
    "model = models.resnet152(weights=models.ResNet152_Weights.DEFAULT)\n",
    "\n",
    "for param in model.parameters():\n",
    "    param.requires_grad = False\n",
    "\n",
    "model.fc = torch.nn.Linear(model.fc.in_features, 2)\n",
    "\n",
    "print(torch.cuda.is_available())\n",
    "\n",
    "device = torch.device(\"cuda:0\" if torch.cuda.is_available() else \"cpu\")\n",
    "model = model.to(device)\n",
    "\n",
    "loss = torch.nn.CrossEntropyLoss()\n",
    "optimizer = torch.optim.Adam(model.parameters(), amsgrad=True, lr=1.0e-3)\n",
    "\n",
    "# Decay LR by a factor of 0.1 every 7 epochs\n",
    "scheduler = torch.optim.lr_scheduler.StepLR(optimizer, step_size=7, gamma=0.1)"
   ]
  },
  {
   "cell_type": "code",
   "execution_count": null,
   "metadata": {
    "colab": {
     "base_uri": "https://localhost:8080/"
    },
    "id": "yxyq5MBFoOZ2",
    "outputId": "2aab36a6-213f-4f5a-af7b-ac57094d0c74"
   },
   "outputs": [],
   "source": [
    "train_model(model, loss, optimizer, scheduler, num_epochs=30)"
   ]
  },
  {
   "cell_type": "code",
   "execution_count": 20,
   "metadata": {},
   "outputs": [],
   "source": [
    "losses = {}\n",
    "accuracies = {}\n",
    "\n",
    "losses['train'], accuracies['train'] = train_loss_history, [elem.item() for elem in train_accuracy_history]\n",
    "losses['val'], accuracies['val'] = val_loss_history, [elem.item() for elem in val_accuracy_history]"
   ]
  },
  {
   "cell_type": "code",
   "execution_count": null,
   "metadata": {},
   "outputs": [],
   "source": [
    "for experiment_id in losses.keys():\n",
    "    plt.plot(losses[experiment_id], label=experiment_id)\n",
    "plt.legend()\n",
    "plt.title('Loss')\n",
    "print(losses['train'])\n",
    "print(losses['val'])"
   ]
  },
  {
   "cell_type": "code",
   "execution_count": null,
   "metadata": {},
   "outputs": [],
   "source": [
    "for experiment_id in accuracies.keys():\n",
    "    plt.plot(accuracies[experiment_id], label=experiment_id)\n",
    "plt.legend()\n",
    "plt.title('Accuracy')\n",
    "print(accuracies['train'])\n",
    "print(accuracies['val'])"
   ]
  },
  {
   "cell_type": "code",
   "execution_count": null,
   "metadata": {
    "colab": {
     "base_uri": "https://localhost:8080/",
     "height": 36
    },
    "id": "tTI-2bXz3MWP",
    "outputId": "aa7b9947-982b-49ba-d237-ee0113dfc3ad"
   },
   "outputs": [],
   "source": [
    "test_dir = 'test'\n",
    "shutil.copytree(os.path.join(data_root, 'test'), os.path.join(test_dir, 'unknown'))"
   ]
  },
  {
   "cell_type": "code",
   "execution_count": 25,
   "metadata": {
    "id": "No6PmB_g6dr3"
   },
   "outputs": [],
   "source": [
    "class ImageFolderWithPaths(torchvision.datasets.ImageFolder):\n",
    "    def __getitem__(self, index):\n",
    "        original_tuple = super(ImageFolderWithPaths, self).__getitem__(index)\n",
    "        path = self.imgs[index][0]\n",
    "        tuple_with_path = (original_tuple + (path,))\n",
    "        return tuple_with_path"
   ]
  },
  {
   "cell_type": "code",
   "execution_count": null,
   "metadata": {
    "colab": {
     "base_uri": "https://localhost:8080/",
     "height": 1000
    },
    "id": "G8PFU6ewK6kh",
    "outputId": "85aa3eeb-6676-403a-a110-8762870b3e0e"
   },
   "outputs": [],
   "source": [
    "df = pd.DataFrame\n",
    "#Итерируемся по Crop'ам test датасета\n",
    "for (i,tranforms) in dataset_transforms.items():\n",
    "    test_dataset = ImageFolderWithPaths('test', tranforms) #Берем новый класс и получаем tuple из 3х значений\n",
    "    test_dataloader = torch.utils.data.DataLoader(\n",
    "        test_dataset, batch_size=batch_size, shuffle=False, num_workers=0) #Новый даталоадер с путями до изображений\n",
    "\n",
    "    model.eval() #Переводим модель в состояние eval\n",
    "    test_predictions = []  #Создаем пустой список предсказания\n",
    "    test_img_paths = [] #Пути до изображения\n",
    "    for inputs, labels, paths in tqdm(test_dataloader): #Цикл по test_dataloader inputs - батч с изображением, lable - тут none, paths - пути до изображения\n",
    "        inputs = inputs.to(device)\n",
    "        labels = labels.to(device)\n",
    "        with torch.set_grad_enabled(False):\n",
    "            preds = model(inputs) # Считаем предикшены\n",
    "        test_predictions.append(\n",
    "            torch.nn.functional.softmax(preds, dim=1)[:,1].data.cpu().numpy()) #С помощью torch.nn.functional.softmax получаем вероятности, для первого класса [:,1], пеереводим тензор в .data, на .cpu(), в numpy\n",
    "        test_img_paths.extend(paths)\n",
    "    test_predictions = np.concatenate(test_predictions)\n",
    "\n",
    "\n",
    "    submission_df = pd.DataFrame.from_dict({'id': test_img_paths, 'label': test_predictions})\n",
    "    submission_df['id'] = submission_df['id'].str.replace(test_dir + \"\\\\unknown\\\\\", \"\")\n",
    "    submission_df['id'] = submission_df['id'].str.replace('.jpg', '')\n",
    "    submission_df.set_index('id', inplace=True)\n",
    "\n",
    "    try : df = df.merge(submission_df, how='inner', on='id') #Объединяем в один датафрейм\n",
    "    except BaseException: # Для первой итерации\n",
    "        df = submission_df\n",
    "    #submission_df['label'] = submission_df['label'].map(lambda pred: 'dirty' if pred > 0.50 else 'cleaned')\n",
    "    #submission_df.to_csv('submission_predict_{0}.csv'.format(i))\n",
    "df.head(8)"
   ]
  },
  {
   "cell_type": "code",
   "execution_count": null,
   "metadata": {
    "colab": {
     "base_uri": "https://localhost:8080/",
     "height": 394
    },
    "id": "WowFz4oCLZU_",
    "outputId": "eb6265d5-f595-4b45-97e6-985ccdf52baf"
   },
   "outputs": [],
   "source": [
    "df['mean'] = df.mean(axis=1)\n",
    "df.drop(df.columns[:-1], axis='columns', inplace=True)\n",
    "df['label'] = df['mean'].map(lambda pred: 'dirty' if pred > 0.50 else 'cleaned')\n",
    "df.drop(df.columns[:-1], axis='columns', inplace=True)\n",
    "df.head(10)"
   ]
  },
  {
   "cell_type": "code",
   "execution_count": 28,
   "metadata": {
    "id": "uERfwL3lLb9T"
   },
   "outputs": [],
   "source": [
    "df.to_csv('submission.csv')"
   ]
  },
  {
   "cell_type": "code",
   "execution_count": null,
   "metadata": {
    "id": "gy3zm_Gui9qX"
   },
   "outputs": [],
   "source": [
    "# !rm -rf train val test plates"
   ]
  }
 ],
 "metadata": {
  "accelerator": "GPU",
  "colab": {
   "gpuType": "T4",
   "provenance": []
  },
  "kernelspec": {
   "display_name": "Python 3 (ipykernel)",
   "language": "python",
   "name": "python3"
  },
  "language_info": {
   "codemirror_mode": {
    "name": "ipython",
    "version": 3
   },
   "file_extension": ".py",
   "mimetype": "text/x-python",
   "name": "python",
   "nbconvert_exporter": "python",
   "pygments_lexer": "ipython3",
   "version": "3.11.7"
  }
 },
 "nbformat": 4,
 "nbformat_minor": 4
}
