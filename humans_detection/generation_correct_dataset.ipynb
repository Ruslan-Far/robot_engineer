{
 "cells": [
  {
   "cell_type": "code",
   "execution_count": 1,
   "id": "0bef4956-933b-4792-acf5-d987fbcb3261",
   "metadata": {},
   "outputs": [],
   "source": [
    "import numpy as np\n",
    "import pandas as pd\n",
    "import os\n",
    "import zipfile\n",
    "import cv2\n",
    "from matplotlib import pyplot as plt\n",
    "import shutil\n",
    "from tqdm import tqdm\n",
    "import torch\n",
    "import torchvision\n",
    "import time\n",
    "import copy\n",
    "from torchvision import transforms, models"
   ]
  },
  {
   "cell_type": "code",
   "execution_count": 4,
   "id": "db46d997-8ca3-49e3-ba84-53cb5a1e2a5c",
   "metadata": {},
   "outputs": [
    {
     "name": "stdout",
     "output_type": "stream",
     "text": [
      "['test', 'train', 'val']\n"
     ]
    }
   ],
   "source": [
    "data_root = \".\\\\dataset\"\n",
    "print(os.listdir(data_root))"
   ]
  },
  {
   "cell_type": "code",
   "execution_count": 29,
   "id": "342566ef-adc0-4d37-9d24-7f036c6ee466",
   "metadata": {},
   "outputs": [
    {
     "name": "stdout",
     "output_type": "stream",
     "text": [
      ".\\dataset\\train\n"
     ]
    }
   ],
   "source": [
    "train_dir = os.path.join(data_root, \"train\")\n",
    "print(train_dir)\n",
    "class_names = [\"is_human\", \"no\"]"
   ]
  },
  {
   "cell_type": "code",
   "execution_count": 23,
   "id": "f54015bb-a8a1-4a76-8a17-102fec476022",
   "metadata": {},
   "outputs": [
    {
     "name": "stdout",
     "output_type": "stream",
     "text": [
      "Dataset ImageFolder\n",
      "    Number of datapoints: 2\n",
      "    Root location: .\\dataset\\train\n",
      "    StandardTransform\n",
      "Transform: Compose(\n",
      "               Resize(size=(224, 224), interpolation=bilinear, max_size=None, antialias=True)\n",
      "               ToTensor()\n",
      "           )\n"
     ]
    }
   ],
   "source": [
    "# train_transforms = transforms.Compose([\n",
    "#     transforms.Resize((224, 224)),\n",
    "#     transforms.ToTensor()\n",
    "# ])\n",
    "\n",
    "# train_dataset = torchvision.datasets.ImageFolder(train_dir, train_transforms)\n",
    "\n",
    "# print(train_dataset)\n",
    "\n",
    "# batch_size = 1\n",
    "# train_dataloader = torch.utils.data.DataLoader(\n",
    "#     train_dataset, batch_size=batch_size, shuffle=False, num_workers=0)"
   ]
  },
  {
   "cell_type": "code",
   "execution_count": 24,
   "id": "a10c32f4-0257-4095-a9fe-79417e291463",
   "metadata": {},
   "outputs": [],
   "source": [
    "def show_input(input_tensor, title='', num_batch=0, num_elem_batch=0):\n",
    "    image = input_tensor.permute(1, 2, 0).numpy()\n",
    "    plt.imshow(image.clip(0, 1))\n",
    "    plt.title(str(num_batch) + \".\" + str(num_elem_batch) + \") \" + title)\n",
    "    plt.show()\n",
    "    plt.pause(0.001)\n",
    "\n",
    "def show_input_all(dataloader):\n",
    "    it = iter(dataloader)\n",
    "    for i in range(len(dataloader)):\n",
    "        X_batch, y_batch = next(it)\n",
    "        num_elem_batch = 0\n",
    "        for x_item, y_item in zip(X_batch, y_batch):\n",
    "            show_input(x_item, title=class_names[y_item], num_batch=i+1, num_elem_batch=num_elem_batch+1)\n",
    "            num_elem_batch += 1"
   ]
  },
  {
   "cell_type": "code",
   "execution_count": null,
   "id": "f29738ae-16e2-4f2a-812d-dc5633cb0da1",
   "metadata": {
    "scrolled": true
   },
   "outputs": [],
   "source": [
    "# show_input_all(train_dataloader)"
   ]
  },
  {
   "cell_type": "code",
   "execution_count": 26,
   "id": "47f2c3da-b00e-40e0-b640-1c8143dd504b",
   "metadata": {},
   "outputs": [],
   "source": [
    "def save_input(input_tensor, title='', num_batch=0, num_elem_batch=0):\n",
    "    image = input_tensor.permute(1, 2, 0).numpy()\n",
    "    plt.imshow(image.clip(0, 1))\n",
    "    plt.savefig(os.path.join(train_dir, title, \"ch_0.jpg\"))\n",
    "    # plt.title(str(num_batch) + \".\" + str(num_elem_batch) + \") \" + title)\n",
    "    # plt.show()\n",
    "    plt.pause(0.001)\n",
    "\n",
    "def save_input_all(dataloader):\n",
    "    it = iter(dataloader)\n",
    "    for i in range(len(dataloader)):\n",
    "        X_batch, y_batch = next(it)\n",
    "        num_elem_batch = 0\n",
    "        for x_item, y_item in zip(X_batch, y_batch):\n",
    "            save_input(x_item, title=class_names[y_item], num_batch=i+1, num_elem_batch=num_elem_batch+1)\n",
    "            num_elem_batch += 1"
   ]
  },
  {
   "cell_type": "code",
   "execution_count": null,
   "id": "2c7cc030-dda3-439f-9068-9fa67528c8cf",
   "metadata": {
    "scrolled": true
   },
   "outputs": [],
   "source": [
    "# save_input_all(train_dataloader)"
   ]
  },
  {
   "cell_type": "code",
   "execution_count": null,
   "id": "a1203416-32d4-44a5-ad99-3ae7c5d2b7ec",
   "metadata": {},
   "outputs": [],
   "source": [
    "# f_cascade = cv2.CascadeClassifier(\"H:/haarcascade_frontalface_default.xml\")\n",
    "# for imageName in glob.glob('H:/Для теста/*.jpg'):\n",
    "#     img = (Image(filename=imageName))\n",
    "#     gray = cv2.cvtColor(img, cv2.COLOR_BGR2GRAY)\n",
    "#     faces = f_cascade.detectMultiScale(gray)\n",
    "#     for x, y, width, height in faces:\n",
    "#         cv2.rectangle(img, (x, y), (x + width, y + height), color=(255, 0, 0), thickness=2)   \n",
    "#     cv2.imwrite(\"H:/Для теста/Тестированное/*.jpg\", img)\n",
    "#     outfile = path.join(\"H:/Для теста/Тестированное/\", path.split(imageName)[1])\n",
    "#     cv2.imwrite(outfile, img)"
   ]
  },
  {
   "cell_type": "code",
   "execution_count": 40,
   "id": "37f748af-f635-46a5-814d-d40731fdbadf",
   "metadata": {},
   "outputs": [
    {
     "name": "stderr",
     "output_type": "stream",
     "text": [
      "100%|██████████| 1/1 [00:00<00:00, 20.97it/s]\n",
      "100%|██████████| 1/1 [00:00<00:00, 151.87it/s]\n"
     ]
    }
   ],
   "source": [
    "for class_name in class_names:\n",
    "    source_dir = os.path.join(train_dir, class_name)\n",
    "    for file_name in tqdm(os.listdir(source_dir)):\n",
    "        img = cv2.imread(os.path.join(source_dir, file_name), cv2.IMREAD_COLOR)\n",
    "        # img = cv2.cvtColor(img, cv2.COLOR_BGR2RGB)\n",
    "        img = cv2.resize(img, (224, 224))\n",
    "        # for x, y, width, height in faces:\n",
    "        #     cv2.rectangle(img, (x, y), (x + width, y + height), color=(255, 0, 0), thickness=2)   \n",
    "        cv2.imwrite(os.path.join(source_dir, \"resized_224_\" + file_name), img)"
   ]
  },
  {
   "cell_type": "code",
   "execution_count": null,
   "id": "929eac49-a244-4a23-8db6-db5049eca711",
   "metadata": {},
   "outputs": [],
   "source": []
  }
 ],
 "metadata": {
  "kernelspec": {
   "display_name": "Python 3 (ipykernel)",
   "language": "python",
   "name": "python3"
  },
  "language_info": {
   "codemirror_mode": {
    "name": "ipython",
    "version": 3
   },
   "file_extension": ".py",
   "mimetype": "text/x-python",
   "name": "python",
   "nbconvert_exporter": "python",
   "pygments_lexer": "ipython3",
   "version": "3.11.7"
  }
 },
 "nbformat": 4,
 "nbformat_minor": 5
}
