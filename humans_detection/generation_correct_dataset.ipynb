{
 "cells": [
  {
   "cell_type": "code",
   "execution_count": 1,
   "id": "0bef4956-933b-4792-acf5-d987fbcb3261",
   "metadata": {},
   "outputs": [],
   "source": [
    "import numpy as np\n",
    "import pandas as pd\n",
    "import os\n",
    "import zipfile\n",
    "import cv2\n",
    "from matplotlib import pyplot as plt\n",
    "import shutil\n",
    "from tqdm import tqdm\n",
    "import torch\n",
    "import torchvision\n",
    "import time\n",
    "import copy\n",
    "from torchvision import transforms, models\n",
    "from matplotlib.patches import Rectangle\n",
    "import csv"
   ]
  },
  {
   "cell_type": "code",
   "execution_count": 3,
   "id": "db46d997-8ca3-49e3-ba84-53cb5a1e2a5c",
   "metadata": {},
   "outputs": [
    {
     "name": "stdout",
     "output_type": "stream",
     "text": [
      "['test', 'train', 'train_data.csv']\n"
     ]
    }
   ],
   "source": [
    "data_root = \".\\\\dataset\"\n",
    "print(os.listdir(data_root))"
   ]
  },
  {
   "cell_type": "code",
   "execution_count": null,
   "id": "1eba57b7-eb45-4767-8c61-2571a8c6422e",
   "metadata": {},
   "outputs": [],
   "source": [
    "resized = 224"
   ]
  },
  {
   "cell_type": "code",
   "execution_count": 4,
   "id": "342566ef-adc0-4d37-9d24-7f036c6ee466",
   "metadata": {},
   "outputs": [
    {
     "name": "stderr",
     "output_type": "stream",
     "text": [
      "100%|██████████| 3/3 [00:00<00:00, 44.42it/s]\n",
      "100%|██████████| 3/3 [00:00<00:00, 56.66it/s]\n"
     ]
    }
   ],
   "source": [
    "train_dir = \"train\"\n",
    "val_dir = \"val\"\n",
    "class_names = [\"d0_no\", \"d1_human\"]\n",
    "\n",
    "for dir_name in [train_dir, val_dir]:\n",
    "    for class_name in class_names:\n",
    "        os.makedirs(os.path.join(dir_name, class_name), exist_ok=True)\n",
    "\n",
    "for class_name in class_names:\n",
    "    source_dir = os.path.join(data_root, train_dir, class_name)\n",
    "    for i, file_name in enumerate(tqdm(os.listdir(source_dir))):\n",
    "        img = cv2.imread(os.path.join(source_dir, file_name), cv2.IMREAD_COLOR)\n",
    "        img = cv2.resize(img, (resized, resized))\n",
    "        if i % 6 != 0:\n",
    "            dest_dir = os.path.join(train_dir, class_name)\n",
    "        else:\n",
    "            dest_dir = os.path.join(val_dir, class_name)\n",
    "        cv2.imwrite(os.path.join(dest_dir, file_name), img)"
   ]
  },
  {
   "cell_type": "code",
   "execution_count": 5,
   "id": "a0fa5669-9800-4e32-bd74-435784a18b39",
   "metadata": {},
   "outputs": [],
   "source": [
    "mean = np.array([0.485, 0.456, 0.406])\n",
    "std = np.array([0.229, 0.224, 0.225])"
   ]
  },
  {
   "cell_type": "code",
   "execution_count": 6,
   "id": "290503f8-75ab-4e2f-a43b-caf635e8997d",
   "metadata": {},
   "outputs": [],
   "source": [
    "xc = []\n",
    "yc = []\n",
    "w = []\n",
    "h = []\n",
    "\n",
    "with open(os.path.join(data_root, \"train_data.csv\"), 'r') as csvfile:\n",
    "    csvreader = csv.reader(csvfile)\n",
    "    next(csvreader)\n",
    "    for row in csvreader:\n",
    "        xc.append(float(row[1]))\n",
    "        yc.append(float(row[2]))\n",
    "        w.append(float(row[3]))\n",
    "        h.append(float(row[4]))"
   ]
  },
  {
   "cell_type": "code",
   "execution_count": 108,
   "id": "abf10f96-5a38-4369-8fc6-6dee957287bb",
   "metadata": {},
   "outputs": [],
   "source": [
    "class ImageFolderWithPaths(torchvision.datasets.ImageFolder):\n",
    "    def __getitem__(self, index):\n",
    "        original_tuple = super(ImageFolderWithPaths, self).__getitem__(index)\n",
    "        path = self.imgs[index][0]\n",
    "        if original_tuple[1] == 0:\n",
    "            tuple_new = (original_tuple + (0.001, 0.001, 0.001, 0.001,))\n",
    "        elif original_tuple[1] == 1:\n",
    "            id = int(path.split(\"\\\\\")[2].replace(\".jpg\", \"\"))\n",
    "            tuple_new = (original_tuple + (xc[id], yc[id], w[id], h[id],))\n",
    "        return tuple_new"
   ]
  },
  {
   "cell_type": "code",
   "execution_count": 115,
   "id": "f54015bb-a8a1-4a76-8a17-102fec476022",
   "metadata": {},
   "outputs": [
    {
     "name": "stdout",
     "output_type": "stream",
     "text": [
      "[('train\\\\d0_no\\\\1.jpg', 0), ('train\\\\d0_no\\\\2.jpg', 0), ('train\\\\d1_human\\\\1.jpg', 1), ('train\\\\d1_human\\\\2.jpg', 1)]\n"
     ]
    }
   ],
   "source": [
    "train_transforms = transforms.Compose([\n",
    "    transforms.ToTensor(),\n",
    "    transforms.Normalize(mean, std)\n",
    "])\n",
    "\n",
    "val_transforms = transforms.Compose([\n",
    "    transforms.ToTensor(),\n",
    "    transforms.Normalize(mean, std)\n",
    "])\n",
    "\n",
    "train_dataset = ImageFolderWithPaths(train_dir, train_transforms)\n",
    "val_dataset = ImageFolderWithPaths(val_dir, val_transforms)\n",
    "\n",
    "print(train_dataset.samples)\n",
    "\n",
    "batch_size = 4\n",
    "train_dataloader = torch.utils.data.DataLoader(\n",
    "    train_dataset, batch_size=batch_size, shuffle=True, num_workers=0)\n",
    "val_dataloader = torch.utils.data.DataLoader(\n",
    "    val_dataset, batch_size=batch_size, shuffle=False, num_workers=0)"
   ]
  },
  {
   "cell_type": "code",
   "execution_count": 116,
   "id": "34ad11d2-9150-42a4-9060-b81ebb6b98c4",
   "metadata": {},
   "outputs": [
    {
     "data": {
      "text/plain": [
       "(1, 4)"
      ]
     },
     "execution_count": 116,
     "metadata": {},
     "output_type": "execute_result"
    }
   ],
   "source": [
    "len(train_dataloader), len(train_dataset)"
   ]
  },
  {
   "cell_type": "code",
   "execution_count": 117,
   "id": "a10c32f4-0257-4095-a9fe-79417e291463",
   "metadata": {},
   "outputs": [],
   "source": [
    "def show_input(input_tensor, num_batch=0, num_elem_batch=0, label, xc, yc, w, h, draw=False):\n",
    "    image = input_tensor.permute(1, 2, 0).numpy()\n",
    "    image = std * image + mean\n",
    "    image = image.clip(0, 1)\n",
    "    plt.imshow(image)\n",
    "    if draw:\n",
    "        if label > 0.5:\n",
    "            start_x = xc*resized-w/2.\n",
    "            start_y = yc*resized-h/2.\n",
    "            if start_x < 0:\n",
    "                start_x = 0\n",
    "            if start_y < 0:\n",
    "                start_y = 0\n",
    "            if w > resized:\n",
    "                w = resized\n",
    "            if h > resized:\n",
    "                h = resized\n",
    "            rect = Rectangle((start_x, start_y), w, h, linewidth=2, edgecolor='r', facecolor='none')\n",
    "            plt.gca().add_patch(rect)\n",
    "            plt.scatter(xc, yc, marker='x', s=100)\n",
    "    plt.title(str(num_batch) + \".\" + str(num_elem_batch) + \") \" + str(label))\n",
    "    plt.show()\n",
    "    plt.pause(0.001)\n",
    "\n",
    "def show_input_all(dataloader):\n",
    "    it = iter(dataloader)\n",
    "    for i in range(len(dataloader)):\n",
    "        X_batch, y_batch, xc_batch, yc_batch, w_batch, h_batch = next(it)\n",
    "        print(\"y_batch:\", y_batch)\n",
    "        print(\"xc_batch:\", xc_batch)\n",
    "        print(\"yc_batch:\", yc_batch)\n",
    "        print(\"w_batch:\", w_batch)\n",
    "        print(\"h_batch:\", h_batch)\n",
    "        num_elem_batch = 0\n",
    "        for x_item, y_item, xc_item, yc_item, w_item, h_item in zip(X_batch, y_batch, xc_batch, yc_batch, w_batch, h_batch):\n",
    "            show_input(x_item, num_batch=i+1, num_elem_batch=num_elem_batch+1, y_item, xc_item, yc_item, w_item, h_item)\n",
    "            num_elem_batch += 1"
   ]
  },
  {
   "cell_type": "code",
   "execution_count": null,
   "id": "f29738ae-16e2-4f2a-812d-dc5633cb0da1",
   "metadata": {
    "scrolled": true
   },
   "outputs": [],
   "source": [
    "show_input_all(train_dataloader)"
   ]
  },
  {
   "cell_type": "code",
   "execution_count": null,
   "id": "47f2c3da-b00e-40e0-b640-1c8143dd504b",
   "metadata": {
    "scrolled": true
   },
   "outputs": [],
   "source": [
    "show_input_all(val_dataloader)"
   ]
  },
  {
   "cell_type": "code",
   "execution_count": 128,
   "id": "a1203416-32d4-44a5-ad99-3ae7c5d2b7ec",
   "metadata": {},
   "outputs": [],
   "source": [
    "train_loss_history = []\n",
    "train_accuracy_history = []\n",
    "val_loss_history = []\n",
    "val_accuracy_history = []\n",
    "\n",
    "def train_model(model, sigmoid_act, bce_loss, mse_loss, optimizer, scheduler, num_epochs):\n",
    "    for epoch in range(num_epochs):\n",
    "        print('Epoch {}/{}:'.format(epoch, num_epochs - 1), flush=True)\n",
    "\n",
    "        # Each epoch has a training and validation phase\n",
    "        for phase in ['train', 'val']:\n",
    "            if phase == 'train':\n",
    "                dataloader = train_dataloader\n",
    "                model.train()  # Set model to training mode\n",
    "            else:\n",
    "                dataloader = val_dataloader\n",
    "                model.eval()   # Set model to evaluate mode\n",
    "\n",
    "            running_loss = 0.\n",
    "            running_acc = 0.\n",
    "\n",
    "            # Iterate over data.\n",
    "            for inputs, labels, xcs, ycs, ws, hs in tqdm(dataloader):\n",
    "                # inputs = inputs.to(device)\n",
    "                # labels = labels.to(device)\n",
    "                # xcs = xcs.to(device)\n",
    "                # ycs = ycs.to(device)\n",
    "                # ws = ws.to(device)\n",
    "                # hs = hs.to(device)\n",
    "\n",
    "                optimizer.zero_grad()\n",
    "\n",
    "                # forward and backward\n",
    "                with torch.set_grad_enabled(phase == 'train'):\n",
    "                    preds = model(inputs)\n",
    "\n",
    "                    labels = labels.reshape(-1, 1).float()\n",
    "                    \n",
    "                    term_labels = bce_loss(sigmoid_act(preds[:, 0:1]), labels)\n",
    "                    term_xcs = bce_loss(sigmoid_act(preds[:, 1:2]), xcs.reshape(-1, 1).float())\n",
    "                    term_ycs = bce_loss(sigmoid_act(preds[:, 2:3]), ycs.reshape(-1, 1).float())\n",
    "                    term_ws = mse_loss(preds[:, 3:4], torch.log(ws.reshape(-1, 1).float()))\n",
    "                    term_hs = mse_loss(preds[:, 4:5], torch.log(hs.reshape(-1, 1).float()))\n",
    "                    \n",
    "                    loss_value = torch.sum(term_labels + labels * (term_xcs + term_ycs + term_ws + term_hs))\n",
    "                    print(loss_value)\n",
    "                    \n",
    "                    preds_class = torch.tensor([1 if pred.item() > 0.5 else 0 for pred in preds[:, 0:1]]).reshape(-1, 1).float()\n",
    "                    \n",
    "                    # backward + optimize only if in training phase\n",
    "                    if phase == 'train':\n",
    "                        loss_value.backward()\n",
    "                        optimizer.step()\n",
    "                        scheduler.step()\n",
    "\n",
    "                # statistics\n",
    "                running_loss += loss_value.item()\n",
    "                running_acc += (preds_class.data == labels.data).float().mean()\n",
    "\n",
    "            epoch_loss = running_loss / len(dataloader)\n",
    "            epoch_acc = running_acc / len(dataloader)\n",
    "\n",
    "            print('{} Loss: {:.4f} Acc: {:.4f}'.format(phase, epoch_loss, epoch_acc), flush=True)\n",
    "            if phase == \"train\":\n",
    "                train_loss_history.append(epoch_loss)\n",
    "                train_accuracy_history.append(epoch_acc)\n",
    "            else:\n",
    "                val_loss_history.append(epoch_loss)\n",
    "                val_accuracy_history.append(epoch_acc)\n",
    "\n",
    "    return model"
   ]
  },
  {
   "cell_type": "code",
   "execution_count": 129,
   "id": "652ad45f-12c4-4ba2-b3f6-8eb08e422d76",
   "metadata": {},
   "outputs": [
    {
     "name": "stdout",
     "output_type": "stream",
     "text": [
      "True\n",
      "cpu\n"
     ]
    }
   ],
   "source": [
    "model = models.resnet18(weights=models.ResNet18_Weights.DEFAULT)\n",
    "\n",
    "for param in model.parameters():\n",
    "    param.requires_grad = False\n",
    "\n",
    "model.fc = torch.nn.Linear(model.fc.in_features, 5)\n",
    "\n",
    "print(torch.cuda.is_available())\n",
    "\n",
    "# device = torch.device(\"cuda:0\" if torch.cuda.is_available() else \"cpu\")\n",
    "# device = torch.device(\"cuda:0\" if not torch.cuda.is_available() else \"cpu\")\n",
    "print(device)\n",
    "\n",
    "sigmoid_act = torch.nn.Sigmoid()\n",
    "\n",
    "bce_loss = torch.nn.BCELoss()\n",
    "mse_loss = torch.nn.MSELoss()\n",
    "\n",
    "optimizer = torch.optim.SGD(model.parameters())\n",
    "\n",
    "# Decay LR by a factor of 0.1 every 7 epochs\n",
    "scheduler = torch.optim.lr_scheduler.StepLR(optimizer, step_size=7, gamma=0.1)"
   ]
  },
  {
   "cell_type": "code",
   "execution_count": 134,
   "id": "6f414005-f68b-4edf-816d-cd7a352305ba",
   "metadata": {
    "scrolled": true
   },
   "outputs": [
    {
     "name": "stdout",
     "output_type": "stream",
     "text": [
      "Epoch 0/9:\n"
     ]
    },
    {
     "name": "stderr",
     "output_type": "stream",
     "text": [
      "100%|██████████| 1/1 [00:00<00:00,  5.56it/s]"
     ]
    },
    {
     "name": "stdout",
     "output_type": "stream",
     "text": [
      "tensor(4.8741, grad_fn=<SumBackward0>)\n",
      "train Loss: 4.8741 Acc: 0.5000\n"
     ]
    },
    {
     "name": "stderr",
     "output_type": "stream",
     "text": [
      "\n",
      "100%|██████████| 1/1 [00:00<00:00, 11.81it/s]"
     ]
    },
    {
     "name": "stdout",
     "output_type": "stream",
     "text": [
      "tensor(42.3963)\n",
      "val Loss: 42.3963 Acc: 0.5000\n",
      "Epoch 1/9:\n"
     ]
    },
    {
     "name": "stderr",
     "output_type": "stream",
     "text": [
      "\n",
      "100%|██████████| 1/1 [00:00<00:00,  6.82it/s]"
     ]
    },
    {
     "name": "stdout",
     "output_type": "stream",
     "text": [
      "tensor(4.7817, grad_fn=<SumBackward0>)\n",
      "train Loss: 4.7817 Acc: 0.5000\n"
     ]
    },
    {
     "name": "stderr",
     "output_type": "stream",
     "text": [
      "\n",
      "100%|██████████| 1/1 [00:00<00:00, 12.20it/s]"
     ]
    },
    {
     "name": "stdout",
     "output_type": "stream",
     "text": [
      "tensor(42.4740)\n",
      "val Loss: 42.4740 Acc: 0.5000\n",
      "Epoch 2/9:\n"
     ]
    },
    {
     "name": "stderr",
     "output_type": "stream",
     "text": [
      "\n",
      "100%|██████████| 1/1 [00:00<00:00,  6.07it/s]"
     ]
    },
    {
     "name": "stdout",
     "output_type": "stream",
     "text": [
      "tensor(4.6968, grad_fn=<SumBackward0>)\n",
      "train Loss: 4.6968 Acc: 0.5000\n"
     ]
    },
    {
     "name": "stderr",
     "output_type": "stream",
     "text": [
      "\n",
      "100%|██████████| 1/1 [00:00<00:00, 11.77it/s]"
     ]
    },
    {
     "name": "stdout",
     "output_type": "stream",
     "text": [
      "tensor(42.5389)\n",
      "val Loss: 42.5389 Acc: 0.5000\n",
      "Epoch 3/9:\n"
     ]
    },
    {
     "name": "stderr",
     "output_type": "stream",
     "text": [
      "\n",
      "100%|██████████| 1/1 [00:00<00:00,  6.53it/s]"
     ]
    },
    {
     "name": "stdout",
     "output_type": "stream",
     "text": [
      "tensor(4.6181, grad_fn=<SumBackward0>)\n",
      "train Loss: 4.6181 Acc: 0.5000\n"
     ]
    },
    {
     "name": "stderr",
     "output_type": "stream",
     "text": [
      "\n",
      "100%|██████████| 1/1 [00:00<00:00, 11.61it/s]"
     ]
    },
    {
     "name": "stdout",
     "output_type": "stream",
     "text": [
      "tensor(42.5828)\n",
      "val Loss: 42.5828 Acc: 0.5000\n",
      "Epoch 4/9:\n"
     ]
    },
    {
     "name": "stderr",
     "output_type": "stream",
     "text": [
      "\n",
      "100%|██████████| 1/1 [00:00<00:00,  6.20it/s]"
     ]
    },
    {
     "name": "stdout",
     "output_type": "stream",
     "text": [
      "tensor(4.5443, grad_fn=<SumBackward0>)\n",
      "train Loss: 4.5443 Acc: 0.5000\n"
     ]
    },
    {
     "name": "stderr",
     "output_type": "stream",
     "text": [
      "\n",
      "100%|██████████| 1/1 [00:00<00:00, 12.62it/s]"
     ]
    },
    {
     "name": "stdout",
     "output_type": "stream",
     "text": [
      "tensor(42.5570)\n",
      "val Loss: 42.5570 Acc: 0.5000\n",
      "Epoch 5/9:\n"
     ]
    },
    {
     "name": "stderr",
     "output_type": "stream",
     "text": [
      "\n",
      "100%|██████████| 1/1 [00:00<00:00,  8.30it/s]"
     ]
    },
    {
     "name": "stdout",
     "output_type": "stream",
     "text": [
      "tensor(4.5373, grad_fn=<SumBackward0>)\n",
      "train Loss: 4.5373 Acc: 0.5000\n"
     ]
    },
    {
     "name": "stderr",
     "output_type": "stream",
     "text": [
      "\n",
      "100%|██████████| 1/1 [00:00<00:00, 14.06it/s]"
     ]
    },
    {
     "name": "stdout",
     "output_type": "stream",
     "text": [
      "tensor(42.5486)\n",
      "val Loss: 42.5486 Acc: 0.5000\n",
      "Epoch 6/9:\n"
     ]
    },
    {
     "name": "stderr",
     "output_type": "stream",
     "text": [
      "\n",
      "  0%|          | 0/1 [00:00<?, ?it/s]"
     ]
    },
    {
     "name": "stdout",
     "output_type": "stream",
     "text": [
      "tensor(4.5303, grad_fn=<SumBackward0>)\n"
     ]
    },
    {
     "name": "stderr",
     "output_type": "stream",
     "text": [
      "100%|██████████| 1/1 [00:00<00:00,  7.88it/s]"
     ]
    },
    {
     "name": "stdout",
     "output_type": "stream",
     "text": [
      "train Loss: 4.5303 Acc: 0.5000\n"
     ]
    },
    {
     "name": "stderr",
     "output_type": "stream",
     "text": [
      "\n",
      "100%|██████████| 1/1 [00:00<00:00, 13.82it/s]"
     ]
    },
    {
     "name": "stdout",
     "output_type": "stream",
     "text": [
      "tensor(42.5564)\n",
      "val Loss: 42.5564 Acc: 0.5000\n",
      "Epoch 7/9:\n"
     ]
    },
    {
     "name": "stderr",
     "output_type": "stream",
     "text": [
      "\n",
      "100%|██████████| 1/1 [00:00<00:00,  7.18it/s]"
     ]
    },
    {
     "name": "stdout",
     "output_type": "stream",
     "text": [
      "tensor(4.5233, grad_fn=<SumBackward0>)\n",
      "train Loss: 4.5233 Acc: 0.5000\n"
     ]
    },
    {
     "name": "stderr",
     "output_type": "stream",
     "text": [
      "\n",
      "100%|██████████| 1/1 [00:00<00:00, 13.14it/s]"
     ]
    },
    {
     "name": "stdout",
     "output_type": "stream",
     "text": [
      "tensor(42.5652)\n",
      "val Loss: 42.5652 Acc: 0.5000\n",
      "Epoch 8/9:\n"
     ]
    },
    {
     "name": "stderr",
     "output_type": "stream",
     "text": [
      "\n",
      "100%|██████████| 1/1 [00:00<00:00,  7.11it/s]"
     ]
    },
    {
     "name": "stdout",
     "output_type": "stream",
     "text": [
      "tensor(4.5164, grad_fn=<SumBackward0>)\n",
      "train Loss: 4.5164 Acc: 0.5000\n"
     ]
    },
    {
     "name": "stderr",
     "output_type": "stream",
     "text": [
      "\n",
      "100%|██████████| 1/1 [00:00<00:00, 13.52it/s]"
     ]
    },
    {
     "name": "stdout",
     "output_type": "stream",
     "text": [
      "tensor(42.5648)\n",
      "val Loss: 42.5648 Acc: 0.5000\n",
      "Epoch 9/9:\n"
     ]
    },
    {
     "name": "stderr",
     "output_type": "stream",
     "text": [
      "\n",
      "100%|██████████| 1/1 [00:00<00:00,  6.92it/s]"
     ]
    },
    {
     "name": "stdout",
     "output_type": "stream",
     "text": [
      "tensor(4.5095, grad_fn=<SumBackward0>)\n",
      "train Loss: 4.5095 Acc: 0.5000\n"
     ]
    },
    {
     "name": "stderr",
     "output_type": "stream",
     "text": [
      "\n",
      "100%|██████████| 1/1 [00:00<00:00, 12.47it/s]"
     ]
    },
    {
     "name": "stdout",
     "output_type": "stream",
     "text": [
      "tensor(42.5480)\n",
      "val Loss: 42.5480 Acc: 0.5000\n"
     ]
    },
    {
     "name": "stderr",
     "output_type": "stream",
     "text": [
      "\n"
     ]
    }
   ],
   "source": [
    "tmp = train_model(model, sigmoid_act, bce_loss, mse_loss, optimizer, scheduler, num_epochs=10)"
   ]
  },
  {
   "cell_type": "code",
   "execution_count": 131,
   "id": "cec29dc6-6ca0-4e15-a2ec-a7c99194e11d",
   "metadata": {},
   "outputs": [],
   "source": [
    "losses = {}\n",
    "accuracies = {}\n",
    "\n",
    "losses['train'], accuracies['train'] = train_loss_history, [elem.item() for elem in train_accuracy_history]\n",
    "losses['val'], accuracies['val'] = val_loss_history, [elem.item() for elem in val_accuracy_history]"
   ]
  },
  {
   "cell_type": "code",
   "execution_count": 132,
   "id": "89d6674e-5793-4b3a-a7cb-7e18256628b4",
   "metadata": {
    "scrolled": true
   },
   "outputs": [
    {
     "name": "stdout",
     "output_type": "stream",
     "text": [
      "[98.9627685546875, 56.9224853515625, 33.639556884765625, 20.63138198852539, 13.289615631103516, 9.095187187194824, 6.662257671356201, 5.223372459411621, 5.091169357299805, 4.976198196411133]\n",
      "[38.36256408691406, 47.62006378173828, 39.00190734863281, 44.883018493652344, 40.558441162109375, 43.873817443847656, 41.83026885986328, 42.053192138671875, 42.207786560058594, 42.29426574707031]\n"
     ]
    },
    {
     "data": {
      "image/png": "[encoded data removed]",
      "text/plain": [
       "<Figure size 640x480 with 1 Axes>"
      ]
     },
     "metadata": {},
     "output_type": "display_data"
    }
   ],
   "source": [
    "for experiment_id in losses.keys():\n",
    "    plt.plot(losses[experiment_id], label=experiment_id)\n",
    "plt.legend()\n",
    "plt.title('Loss')\n",
    "print(losses['train'])\n",
    "print(losses['val'])"
   ]
  },
  {
   "cell_type": "code",
   "execution_count": 133,
   "id": "92ea7a65-27c5-4667-a225-0a5cdd4d3c6c",
   "metadata": {
    "scrolled": true
   },
   "outputs": [
    {
     "name": "stdout",
     "output_type": "stream",
     "text": [
      "[0.5, 0.5, 0.5, 0.5, 0.5, 0.5, 0.5, 0.5, 0.5, 0.5]\n",
      "[0.5, 0.5, 0.5, 0.5, 0.5, 0.5, 0.5, 0.5, 0.5, 0.5]\n"
     ]
    },
    {
     "data": {
      "image/png": "[encoded data removed]",
      "text/plain": [
       "<Figure size 640x480 with 1 Axes>"
      ]
     },
     "metadata": {},
     "output_type": "display_data"
    }
   ],
   "source": [
    "for experiment_id in accuracies.keys():\n",
    "    plt.plot(accuracies[experiment_id], label=experiment_id)\n",
    "plt.legend()\n",
    "plt.title('Accuracy')\n",
    "print(accuracies['train'])\n",
    "print(accuracies['val'])"
   ]
  },
  {
   "cell_type": "code",
   "execution_count": null,
   "id": "5afd8a1c-0686-4344-9d64-9b4949c3cc3f",
   "metadata": {},
   "outputs": [],
   "source": [
    "test_dir = \"test\"\n",
    "class_name = \"unknown\"\n",
    "\n",
    "os.makedirs(os.path.join(test_dir, class_name), exist_ok=True)\n",
    "\n",
    "source_dir = os.path.join(data_root, test_dir)\n",
    "for i, file_name in enumerate(tqdm(os.listdir(source_dir))):\n",
    "    img = cv2.imread(os.path.join(source_dir, file_name), cv2.IMREAD_COLOR)\n",
    "    img = cv2.resize(img, (resized, resized))\n",
    "    dest_dir = os.path.join(test_dir, class_name)\n",
    "    cv2.imwrite(os.path.join(dest_dir, file_name), img)"
   ]
  },
  {
   "cell_type": "code",
   "execution_count": null,
   "id": "9aeae354-9b85-4400-919f-6af1173a3224",
   "metadata": {},
   "outputs": [],
   "source": [
    "test_dataset = ImageFolder(test_dir, val_transforms)\n",
    "\n",
    "test_dataloader = torch.utils.data.DataLoader(\n",
    "    test_dataset, batch_size=batch_size, shuffle=False, num_workers=0)"
   ]
  },
  {
   "cell_type": "code",
   "execution_count": null,
   "id": "b7dcec20-de86-442b-811f-ed516b03e905",
   "metadata": {},
   "outputs": [],
   "source": [
    "test_dataset"
   ]
  },
  {
   "cell_type": "code",
   "execution_count": null,
   "id": "bec7217a-ea60-477f-a761-2a4c2badfa1b",
   "metadata": {},
   "outputs": [],
   "source": [
    "model.eval()\n",
    "\n",
    "test_predictions = []\n",
    "\n",
    "for inputs, labels in tqdm(dataloader):\n",
    "    with torch.set_grad_enabled(False):\n",
    "        preds = model(inputs)\n",
    "    test_predictions.append(preds)"
   ]
  },
  {
   "cell_type": "code",
   "execution_count": null,
   "id": "5cd41d4e-bd0e-4b5a-be43-b443e541b744",
   "metadata": {},
   "outputs": [],
   "source": [
    "it = iter(test_dataloader)\n",
    "for i in range(len(test_dataloader)):\n",
    "    inputs, labels = next(it)\n",
    "    num_elem_batch = 0\n",
    "    for img, pred in zip(inputs, test_predictions[i]):\n",
    "        show_input(img, num_batch=i+1, num_elem_batch=num_elem_batch+1, pred[0], pred[1], pred[2], torch.exp(pred[3]), torch.exp(pred[4]), draw=True)\n",
    "        num_elem_batch += 1"
   ]
  },
  {
   "cell_type": "code",
   "execution_count": 2,
   "id": "929eac49-a244-4a23-8db6-db5049eca711",
   "metadata": {},
   "outputs": [],
   "source": [
    "# !rm -rf train val test"
   ]
  },
  {
   "cell_type": "code",
   "execution_count": null,
   "id": "4e4f189c-7677-42a6-88dc-031e4ae4dd1e",
   "metadata": {},
   "outputs": [],
   "source": []
  }
 ],
 "metadata": {
  "kernelspec": {
   "display_name": "Python 3 (ipykernel)",
   "language": "python",
   "name": "python3"
  },
  "language_info": {
   "codemirror_mode": {
    "name": "ipython",
    "version": 3
   },
   "file_extension": ".py",
   "mimetype": "text/x-python",
   "name": "python",
   "nbconvert_exporter": "python",
   "pygments_lexer": "ipython3",
   "version": "3.11.7"
  }
 },
 "nbformat": 4,
 "nbformat_minor": 5
}
